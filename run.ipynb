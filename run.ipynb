{
 "metadata": {
  "language_info": {
   "codemirror_mode": {
    "name": "ipython",
    "version": 3
   },
   "file_extension": ".py",
   "mimetype": "text/x-python",
   "name": "python",
   "nbconvert_exporter": "python",
   "pygments_lexer": "ipython3",
   "version": "3.7.0-final"
  },
  "orig_nbformat": 2,
  "kernelspec": {
   "name": "python3",
   "display_name": "Python 3"
  }
 },
 "nbformat": 4,
 "nbformat_minor": 2,
 "cells": [
  {
   "cell_type": "code",
   "execution_count": 2,
   "metadata": {
    "tags": []
   },
   "outputs": [
    {
     "output_type": "stream",
     "name": "stdout",
     "text": [
      "200\n['data/origin/syjs/fa/api.log', 'data/origin/syjs/fa/api.log_2020-09-28.log', 'data/origin/syjs/fa/api.log_2020-10-14.log', 'data/origin/syjs/fa/icaslog.log', 'data/origin/syjs/fa/icaslog.log_2020-09-20.log', 'data/origin/syjs/fa/icaslog.log_2020-09-21.log', 'data/origin/syjs/fa/icaslog.log_2020-09-22.log', 'data/origin/syjs/fa/icaslog.log_2020-09-23.log', 'data/origin/syjs/fa/icaslog.log_2020-09-24.log', 'data/origin/syjs/fa/icaslog.log_2020-09-25.log', 'data/origin/syjs/fa/icaslog.log_2020-09-26.log', 'data/origin/syjs/fa/icaslog.log_2020-09-27.log', 'data/origin/syjs/fa/icaslog.log_2020-09-28.log', 'data/origin/syjs/fa/icaslog.log_2020-09-29.log', 'data/origin/syjs/fa/icaslog.log_2020-09-30.log', 'data/origin/syjs/fa/icaslog.log_2020-10-01.log', 'data/origin/syjs/fa/icaslog.log_2020-10-02.log', 'data/origin/syjs/fa/icaslog.log_2020-10-03.log', 'data/origin/syjs/fa/icaslog.log_2020-10-04.log', 'data/origin/syjs/fa/icaslog.log_2020-10-05.log', 'data/origin/syjs/fa/icaslog.log_2020-10-06.log', 'data/origin/syjs/fa/icaslog.log_2020-10-07.log', 'data/origin/syjs/fa/icaslog.log_2020-10-08.log', 'data/origin/syjs/fa/icaslog.log_2020-10-09.log', 'data/origin/syjs/fa/icaslog.log_2020-10-10.log', 'data/origin/syjs/fa/icaslog.log_2020-10-11.log', 'data/origin/syjs/fa/icaslog.log_2020-10-12.log', 'data/origin/syjs/fa/icaslog.log_2020-10-13.log', 'data/origin/syjs/fa/icaslog.log_2020-10-14.log', 'data/origin/syjs/fa/icaslog.log_2020-10-15.log', 'data/origin/syjs/fa/icaslog.log_2020-10-16.log', 'data/origin/syjs/fa/icaslog.log_2020-10-17.log', 'data/origin/syjs/fa/icaslog.log_2020-10-18.log', 'data/origin/syjs/fa/icaslog.log_2020-10-19.log', 'data/origin/syjs/fa/icaslog.log_2020-10-20.log', 'data/origin/syjs/fa/icaslog.log_2020-10-21.log', 'data/origin/syjs/fa/icaslog.log_2020-10-22.log', 'data/origin/syjs/fa/icaslog.log_2020-10-23.log', 'data/origin/syjs/fa/icaslog.log_2020-10-24.log', 'data/origin/syjs/fa/icaslog.log_2020-10-25.log', 'data/origin/syjs/fa/icaslog.log_2020-10-26.log', 'data/origin/syjs/fa/icaslog.log_2020-10-27.log', 'data/origin/syjs/fa/icaslog.log_2020-10-28.log', 'data/origin/syjs/fa/icaslog.log_2020-10-29.log', 'data/origin/syjs/fa/icaslog.log_2020-10-30.log', 'data/origin/syjs/fa/icaslog.log_2020-10-31.log', 'data/origin/syjs/fa/icaslog.log_2020-11-01.log', 'data/origin/syjs/fa/icaslog.log_2020-11-02.log', 'data/origin/syjs/fa/icaslog.log_2020-11-03.log', 'data/origin/syjs/fa/icaslog.log_2020-11-04.log', 'data/origin/syjs/fa/icaslog.log_2020-11-05.log', 'data/origin/syjs/fa/icaslog.log_2020-11-06.log', 'data/origin/syjs/fa/icaslog.log_2020-11-07.log', 'data/origin/syjs/fa/icaslog.log_2020-11-08.log', 'data/origin/syjs/fa/icaslog.log_2020-11-09.log', 'data/origin/syjs/fa/icaslog.log_2020-11-10.log', 'data/origin/syjs/fa/icaslog.log_2020-11-11.log', 'data/origin/syjs/fa/icaslog.log_2020-11-12.log', 'data/origin/syjs/fa/icaslog.log_2020-11-13.log', 'data/origin/syjs/fa/icaslog.log_2020-11-14.log', 'data/origin/syjs/fa/icaslog.log_2020-11-15.log', 'data/origin/syjs/fa/icaslog.log_2020-11-16.log', 'data/origin/syjs/fa/icaslog.log_2020-11-17.log', 'data/origin/syjs/fa/icaslog.log_2020-11-18.log', 'data/origin/syjs/fa/icaslog.log_2020-11-19.log', 'data/origin/syjs/fa/icaslog.log_2020-11-20.log', 'data/origin/syjs/fa/icaslog.log_2020-11-21.log', 'data/origin/syjs/fa/icaslog.log_2020-11-22.log', 'data/origin/syjs/fin/api.log', 'data/origin/syjs/fin/api.log_2020-09-08.log', 'data/origin/syjs/fin/api.log_2020-09-10.log', 'data/origin/syjs/fin/api.log_2020-09-14.log', 'data/origin/syjs/fin/api.log_2020-09-15.log', 'data/origin/syjs/fin/api.log_2020-09-16.log', 'data/origin/syjs/fin/api.log_2020-09-17.log', 'data/origin/syjs/fin/api.log_2020-09-18.log', 'data/origin/syjs/fin/api.log_2020-09-21.log', 'data/origin/syjs/fin/api.log_2020-09-22.log', 'data/origin/syjs/fin/api.log_2020-09-23.log', 'data/origin/syjs/fin/api.log_2020-09-24.log', 'data/origin/syjs/fin/api.log_2020-09-25.log', 'data/origin/syjs/fin/api.log_2020-09-27.log', 'data/origin/syjs/fin/api.log_2020-09-28.log', 'data/origin/syjs/fin/api.log_2020-09-29.log', 'data/origin/syjs/fin/api.log_2020-10-09.log', 'data/origin/syjs/fin/api.log_2020-10-12.log', 'data/origin/syjs/fin/api.log_2020-10-13.log', 'data/origin/syjs/fin/api.log_2020-10-14.log', 'data/origin/syjs/fin/api.log_2020-10-15.log', 'data/origin/syjs/fin/api.log_2020-10-16.log', 'data/origin/syjs/fin/api.log_2020-10-19.log', 'data/origin/syjs/fin/api.log_2020-10-20.log', 'data/origin/syjs/fin/api.log_2020-10-21.log', 'data/origin/syjs/fin/api.log_2020-10-22.log', 'data/origin/syjs/fin/api.log_2020-10-23.log', 'data/origin/syjs/fin/api.log_2020-10-26.log', 'data/origin/syjs/fin/api.log_2020-10-27.log', 'data/origin/syjs/fin/api.log_2020-10-28.log', 'data/origin/syjs/fin/api.log_2020-10-30.log', 'data/origin/syjs/fin/api.log_2020-11-02.log', 'data/origin/syjs/fin/api.log_2020-11-03.log', 'data/origin/syjs/fin/api.log_2020-11-04.log', 'data/origin/syjs/fin/api.log_2020-11-05.log', 'data/origin/syjs/fin/api.log_2020-11-06.log', 'data/origin/syjs/fin/api.log_2020-11-09.log', 'data/origin/syjs/fin/api.log_2020-11-10.log', 'data/origin/syjs/fin/api.log_2020-11-11.log', 'data/origin/syjs/fin/api.log_2020-11-12.log', 'data/origin/syjs/fin/api.log_2020-11-13.log', 'data/origin/syjs/fin/api.log_2020-11-16.log', 'data/origin/syjs/fin/api.log_2020-11-18.log', 'data/origin/syjs/fin/api.log_2020-11-19.log', 'data/origin/syjs/fin/api.log_2020-11-20.log', 'data/origin/syjs/fin/icaslog.log', 'data/origin/syjs/fin/icaslog.log_2020-09-20.log', 'data/origin/syjs/fin/icaslog.log_2020-09-21.log', 'data/origin/syjs/fin/icaslog.log_2020-09-22.log', 'data/origin/syjs/fin/icaslog.log_2020-09-23.log', 'data/origin/syjs/fin/icaslog.log_2020-09-24.log', 'data/origin/syjs/fin/icaslog.log_2020-09-25.log', 'data/origin/syjs/fin/icaslog.log_2020-09-26.log', 'data/origin/syjs/fin/icaslog.log_2020-09-27.log', 'data/origin/syjs/fin/icaslog.log_2020-09-28.log', 'data/origin/syjs/fin/icaslog.log_2020-09-29.log', 'data/origin/syjs/fin/icaslog.log_2020-09-30.log', 'data/origin/syjs/fin/icaslog.log_2020-10-01.log', 'data/origin/syjs/fin/icaslog.log_2020-10-02.log', 'data/origin/syjs/fin/icaslog.log_2020-10-03.log', 'data/origin/syjs/fin/icaslog.log_2020-10-04.log', 'data/origin/syjs/fin/icaslog.log_2020-10-05.log', 'data/origin/syjs/fin/icaslog.log_2020-10-06.log', 'data/origin/syjs/fin/icaslog.log_2020-10-07.log', 'data/origin/syjs/fin/icaslog.log_2020-10-08.log', 'data/origin/syjs/fin/icaslog.log_2020-10-09.log', 'data/origin/syjs/fin/icaslog.log_2020-10-10.log', 'data/origin/syjs/fin/icaslog.log_2020-10-11.log', 'data/origin/syjs/fin/icaslog.log_2020-10-12.log', 'data/origin/syjs/fin/icaslog.log_2020-10-13.log', 'data/origin/syjs/fin/icaslog.log_2020-10-14.log', 'data/origin/syjs/fin/icaslog.log_2020-10-15.log', 'data/origin/syjs/fin/icaslog.log_2020-10-16.log', 'data/origin/syjs/fin/icaslog.log_2020-10-17.log', 'data/origin/syjs/fin/icaslog.log_2020-10-18.log', 'data/origin/syjs/fin/icaslog.log_2020-10-19.log', 'data/origin/syjs/fin/icaslog.log_2020-10-20.log', 'data/origin/syjs/fin/icaslog.log_2020-10-21.log', 'data/origin/syjs/fin/icaslog.log_2020-10-22.log', 'data/origin/syjs/fin/icaslog.log_2020-10-23.log', 'data/origin/syjs/fin/icaslog.log_2020-10-24.log', 'data/origin/syjs/fin/icaslog.log_2020-10-25.log', 'data/origin/syjs/fin/icaslog.log_2020-10-26.log', 'data/origin/syjs/fin/icaslog.log_2020-10-27.log', 'data/origin/syjs/fin/icaslog.log_2020-10-28.log', 'data/origin/syjs/fin/icaslog.log_2020-10-29.log', 'data/origin/syjs/fin/icaslog.log_2020-10-30.log', 'data/origin/syjs/fin/icaslog.log_2020-10-31.log', 'data/origin/syjs/fin/icaslog.log_2020-11-01.log', 'data/origin/syjs/fin/icaslog.log_2020-11-02.log', 'data/origin/syjs/fin/icaslog.log_2020-11-03.log', 'data/origin/syjs/fin/icaslog.log_2020-11-04.log', 'data/origin/syjs/fin/icaslog.log_2020-11-05.log', 'data/origin/syjs/fin/icaslog.log_2020-11-06.log', 'data/origin/syjs/fin/icaslog.log_2020-11-07.log', 'data/origin/syjs/fin/icaslog.log_2020-11-08.log', 'data/origin/syjs/fin/icaslog.log_2020-11-09.log', 'data/origin/syjs/fin/icaslog.log_2020-11-10.log', 'data/origin/syjs/fin/icaslog.log_2020-11-11.log', 'data/origin/syjs/fin/icaslog.log_2020-11-12.log', 'data/origin/syjs/fin/icaslog.log_2020-11-13.log', 'data/origin/syjs/fin/icaslog.log_2020-11-14.log', 'data/origin/syjs/fin/icaslog.log_2020-11-15.log', 'data/origin/syjs/fin/icaslog.log_2020-11-16.log', 'data/origin/syjs/fin/icaslog.log_2020-11-17.log', 'data/origin/syjs/fin/icaslog.log_2020-11-18.log', 'data/origin/syjs/fin/icaslog.log_2020-11-19.log', 'data/origin/syjs/fin/icaslog.log_2020-11-20.log', 'data/origin/syjs/fin/icaslog.log_2020-11-21.log', 'data/origin/syjs/fin/icaslog.log_2020-11-22.log', 'data/origin/syjs/hr/api.log', 'data/origin/syjs/hr/api.log_2020-09-08.log', 'data/origin/syjs/hr/api.log_2020-09-09.log', 'data/origin/syjs/hr/api.log_2020-09-10.log', 'data/origin/syjs/hr/api.log_2020-09-11.log', 'data/origin/syjs/hr/api.log_2020-09-12.log', 'data/origin/syjs/hr/api.log_2020-09-13.log', 'data/origin/syjs/hr/api.log_2020-09-14.log', 'data/origin/syjs/hr/api.log_2020-09-15.log', 'data/origin/syjs/hr/api.log_2020-09-16.log', 'data/origin/syjs/hr/api.log_2020-09-17.log', 'data/origin/syjs/hr/api.log_2020-09-18.log', 'data/origin/syjs/hr/api.log_2020-09-19.log', 'data/origin/syjs/hr/api.log_2020-09-20.log', 'data/origin/syjs/hr/api.log_2020-09-21.log', 'data/origin/syjs/hr/api.log_2020-09-22.log', 'data/origin/syjs/hr/api.log_2020-09-23.log', 'data/origin/syjs/hr/api.log_2020-09-24.log', 'data/origin/syjs/hr/api.log_2020-09-25.log', 'data/origin/syjs/hr/api.log_2020-09-26.log', 'data/origin/syjs/hr/api.log_2020-09-27.log', 'data/origin/syjs/hr/api.log_2020-09-28.log']\n"
     ]
    }
   ],
   "source": [
    "\n",
    "# here put the import lib\n",
    "import os\n",
    "\n",
    "import logging as log\n",
    "import pandas as pd\n",
    "\n",
    "from modules.logger.logger import init as logInit\n",
    "from modules.logUtils.httpEvent import HttpEvent, TABLE_LABELS\n",
    "from modules.fileUtils.fileUtils import getFilesByPath\n",
    "from modules.config.argumentParser import argumentParser\n",
    "from modules.config.configParser import getValue as getValueFromConfig\n",
    "\n",
    "# CONFIG\n",
    "\n",
    "TABLE_LABELS = [\n",
    "    \"timestamp\",\n",
    "    \"threadId\",\n",
    "    \"institutionId\",\n",
    "    \"userId\",\n",
    "    \"url\",\n",
    "    \"method\",\n",
    "    \"statusCode\",\n",
    "    \"parameterType\",\n",
    "    \"parameterName\",\n",
    "    \"parameterValue\",\n",
    "    \"header\",\n",
    "    \"ip\",\n",
    "    \"port\",\n",
    "    \"vpnip\"\n",
    "]\n",
    "# get all files.\n",
    "files = getFilesByPath(\"data/origin/syjs\")\n",
    "if not files: \n",
    "    print(\"there no any file. recorrect the input path.\")\n",
    "files = files[:200]\n",
    "\n",
    "print(len(files))\n",
    "print(files)\n",
    "\n",
    "# IF SMIPLY WRITE TO CSV\n",
    "# with open(os.path.join(output, \"\", \"tmp.csv\"), \"w\", encoding=\"utf-8\") as target:\n",
    "#     target.write(TABLE_LABELS+'\\n')\n",
    "# END\n"
   ]
  },
  {
   "cell_type": "code",
   "execution_count": 3,
   "metadata": {
    "tags": []
   },
   "outputs": [
    {
     "output_type": "stream",
     "name": "stdout",
     "text": [
      "181328 14\n"
     ]
    }
   ],
   "source": [
    "\n",
    "data = []\n",
    "for file in files:\n",
    "    count = 0\n",
    "    with open(file, 'r', encoding='utf-8') as f:\n",
    "        # read raw log by line.\n",
    "        for line in f:\n",
    "            try:\n",
    "                he = HttpEvent(line)\n",
    "                count += 1\n",
    "\n",
    "                # filter url\n",
    "                subs = he.url.split('/')\n",
    "                for i, sub in enumerate(subs):\n",
    "                    if sub == \"\": continue\n",
    "                    if sub == he.userId: subs[i] = \"userId\"\n",
    "                    elif sub == he.institutionId: subs[i] = \"institutionId\"\n",
    "                    elif sub == he.name: subs[i] = \"name\"\n",
    "                    elif len(sub) == 32: subs[i] = \"hash\"\n",
    "                    elif i > 1:\n",
    "                        if 'By' in subs[i-1]:\n",
    "                            subs[i] = subs[i-1].split('By')[-1]\n",
    "                        elif 'Code' in subs[i-1]:\n",
    "                            subs[i] = 'code'\n",
    "                        elif subs[i-1] == 'assetTag':\n",
    "                            subs[i] = 'tags'\n",
    "                            subs = subs[:i+1]\n",
    "                            break\n",
    "                        elif subs[i-1].endswith('UserLeadrName'):\n",
    "                            subs[i] = 'userId'\n",
    "                        elif subs[i-1].startswith('get') or subs[i-1].startswith('Get'):\n",
    "                            if subs[i-1].endswith('Info'):\n",
    "                                subs[i] = 'info'\n",
    "                            elif subs[i-1].endswith('Code') or subs[i-1].endswith('Codes'):\n",
    "                                subs[i] = 'code' \n",
    "                he.url = \"/\".join(subs)\n",
    "\n",
    "                # append to Data\n",
    "                data.extend([he.getSet()])\n",
    "            except Exception as e:\n",
    "                log.debug(e)\n",
    "    log.info(\"{0} write {1} lines\".format(file, count))\n",
    "print(len(data), len(data[0]))\n",
    "# convert List to DataFrame\n",
    "# print(data[0])\n",
    "df = pd.DataFrame(data = data, columns=TABLE_LABELS)\n"
   ]
  },
  {
   "cell_type": "code",
   "execution_count": 12,
   "metadata": {},
   "outputs": [
    {
     "output_type": "error",
     "ename": "SyntaxError",
     "evalue": "invalid syntax (<ipython-input-12-5e9d5648d334>, line 2)",
     "traceback": [
      "\u001b[0;36m  File \u001b[0;32m\"<ipython-input-12-5e9d5648d334>\"\u001b[0;36m, line \u001b[0;32m2\u001b[0m\n\u001b[0;31m    )\u001b[0m\n\u001b[0m    ^\u001b[0m\n\u001b[0;31mSyntaxError\u001b[0m\u001b[0;31m:\u001b[0m invalid syntax\n"
     ]
    }
   ],
   "source": [
    ")"
   ]
  },
  {
   "cell_type": "code",
   "execution_count": 4,
   "metadata": {},
   "outputs": [
    {
     "output_type": "error",
     "ename": "NameError",
     "evalue": "name 'urls' is not defined",
     "traceback": [
      "\u001b[0;31m---------------------------------------------------------------------------\u001b[0m",
      "\u001b[0;31mNameError\u001b[0m                                 Traceback (most recent call last)",
      "\u001b[0;32m<ipython-input-4-1983ac227e9e>\u001b[0m in \u001b[0;36m<module>\u001b[0;34m\u001b[0m\n\u001b[0;32m----> 1\u001b[0;31m \u001b[0;32mfor\u001b[0m \u001b[0mk\u001b[0m\u001b[0;34m,\u001b[0m \u001b[0mv\u001b[0m \u001b[0;32min\u001b[0m \u001b[0murls\u001b[0m\u001b[0;34m:\u001b[0m\u001b[0;34m\u001b[0m\u001b[0m\n\u001b[0m\u001b[1;32m      2\u001b[0m     \u001b[0mprint\u001b[0m\u001b[0;34m(\u001b[0m\u001b[0mk\u001b[0m\u001b[0;34m,\u001b[0m \u001b[0mv\u001b[0m\u001b[0;34m)\u001b[0m\u001b[0;34m\u001b[0m\u001b[0m\n",
      "\u001b[0;31mNameError\u001b[0m: name 'urls' is not defined"
     ]
    }
   ],
   "source": [
    "urlDF = df.urls\n",
    "for k, v in urls:\n",
    "    print(k, v)"
   ]
  },
  {
   "cell_type": "code",
   "execution_count": 83,
   "metadata": {},
   "outputs": [
    {
     "output_type": "stream",
     "name": "stdout",
     "text": [
      "7 ['accbook', 'inasset', 'prjInfo']\n42 ['remoteGetDepreciateExeBudgetPageForSetting', 'remoteGetAssetExtendInfoListByAssetIdsPost']\n8 ['userInfo', 'wordFlow', 'm=delete', 'purchase', 'assetAcc', 'deptInfo', 'assetTag', 'supplier']\n31 ['remoteCheckIsCanCloseCurrPeriod', 'remoteGetPagedInAssetModifyList', 'getExeBudgetInfoListByBudgetIds']\n35 ['remoteGetPagedAssetListByPermission']\n41 ['remoteGetPagedAssetListByUserOrPermission']\n12 ['assetReceive', 'downloadFile', 'bizWfMapping']\n27 ['remoteGetParamConfigByCodes', 'getInAssetSendVoucherResult']\n19 ['remoteGetAllAccbook', 'accAssetVoucherDepr', 'getDepreciateResult', 'submitApproveOption', 'remoteGetIsEnableOU']\n6 ['config', 'userId', 'period', 'DeptId', 'ledger']\n11 ['inAssetRoom', 'assetPrjMap', 'sendVoucher', 'paramConfig', 'AssetModify', 'assetModify', 'voucherInfo', 'queryByCode', 'stockInCode', 'InAssetInfo', 'inAssetInfo']\n13 ['InAssetModify', 'inAssetModify', 'bgUsageBudget', 'codeGenerator']\n24 ['batchUpdateImportBizData', 'getExtendConfigByClassId', 'remoteGetWareHouseVoList', 'remoteGetInAssetInfoList', 'remoteGetPagedCanUseList']\n10 ['attachment', 'commoncore', '321121-120']\n9 ['assetCode', 'assetInfo', 'AssetAcpt', 'applyCode', 'bizconfig', 'assetAcpt', 'warehouse', 'AssetInfo', 'getVoPage']\n22 ['assetDeptManagerConfig', 'downloadFileByFileType', 'remoteGetWorkFlowIsEnd', 'remoteGetCodeGenerator', 'remoteGetWareHouseList']\n26 ['remoteGetParamConfigByCode', 'depreciateExeBudgetSetting', 'remoteGetPagedAssetAccList', 'getAttachmentPageByDataIds', 'getOpenedExeBudgetInfoList', 'remoteGetCodeGeneratorList', 'getInassetDepreciateResult']\n16 ['getAssetAcptInfo', 'updateCurrPeriod']\n20 ['batchDownloadBizData', 'getPagedMyAssetApply', 'getOpenedPrjInfoList', 'getBatchImportResult', 'checkIsAllGenVoucher']\n37 ['remoteGetPagedInAssetListByPermission', 'sendVoucherForInAssetDepreciateRecord']\n15 ['assetDepreciate', 'assetUseAddress', 'assetCommonCore', 'assetExtendInfo', 'getSupplierList', 'setRelativeData', 'assetAllRequest']\n30 ['generateInAssetModifyApplyCode', 'remoteGetCurrAccbookPermission', 'batchImportDepreciateExeBudget']\n18 ['getInAssetRoomList', 'getAssetInfoVoById', 'batchImportBizData', 'updateAssetAccInfo', 'remoteGetAllPeriod']\n23 ['remoteGetDataDictionary', 'remoteGetCurrenUserInfo', 'remoteCheckIsOverBudget', 'inassetDepreciateRecord']\n43 ['remoteGetPagedInAssetListByUserOrPermission']\n17 ['checkCurrUserRole', 'getUseAddressList', 'assetExtendConfig', 'accbookPermission', 'accbookAssetScope', 'inAssetDepreciate']\n29 ['remoteGetPagedAssetModifyList', 'getOpenedExeBudgetInfoListAll', 'getCheckIsAllGenVoucherResult', 'remoteGetInAssetInfoListByIds']\n14 ['getAssetClasss', 'todoCommonCore', 'externalConfig', 'uniqueValidate']\n21 ['remoteGetUserInfoById', 'remoteGetTotalTodoNum', 'assetDepreciateRecord']\n33 ['getAccbookListByUserIdAndBizScope', 'remoteGetPagedAssetAllRequestList', 'getWorkFlowProcessByParamAndTable', 'checkDepsIsHaveConfigAccbookAsset']\n25 ['getUseAddressListByDeptId', 'getAssetSendVoucherResult', 'remoteGetPagedPendingList', 'getDepInfoOfLevelByUserId']\n5 ['Codes', 'asset']\n2 ['Id', 'fa']\n50 ['checkIsWithinAccbookScopeByAccbookIdAndAssetIdList']\n4 ['Code', 'tags', 'hash', 'code', 'info']\n36 ['checkIsLevelManagerByUserIdAndDeptId']\n28 ['remoteGetCurrenUserLeadrName']\n3 ['new']\n34 ['remoteGetPagedVoucherInfoQueryList']\n38 ['exportDepreciateExeBudgetExcelByParams']\n"
     ]
    }
   ],
   "source": [
    "import collections\n",
    "dic = collections.defaultdict(list)\n",
    "\n",
    "for url in subUrls:\n",
    "    dic[len(url)].append(url)\n",
    "for i, j in dic.items():\n",
    "    print(i, j)\n",
    "# 按照长度进行统计"
   ]
  },
  {
   "cell_type": "code",
   "execution_count": 85,
   "metadata": {},
   "outputs": [
    {
     "output_type": "stream",
     "name": "stdout",
     "text": [
      "1 /fa/asset/assetInfo/t/Id\n1 /fa/commoncore/userInfo/remoteGetCurrenUserLeadrName/321121-120\n1 /fa/commoncore/uniqueValidate/uniqueValidate/AssetInfo/assetTag/tags\n1 /fa/ledger/accbook/updateCurrPeriod/hash\n1 /fa/purchase/assetAcpt\n1 /fa/ledger/inAssetDepreciate/getInassetDepreciateResult\n1 /fa/ledger/voucherInfo/remoteGetPagedVoucherInfoQueryList\n1 /fa/asset/assetModify/batchUpdateImportBizData\n1 /fa/ledger/accAssetVoucherDepr\n1 /fa/config/attachment/t\n1 /fa/commoncore/assetCommonCore/getAssetClasss\n1 /fa/inasset/inAssetModify/batchImportBizData\n1 /fa/commoncore/bizWfMapping/t\n1 /fa/ledger/assetDepreciateRecord/assetDepreciateRecord\n1 /fa/asset/assetReceive/getPagedMyAssetApply\n1 /fa/ledger/accbookPermission\n1 /fa/ledger/period/remoteGetAllPeriod\n1 /fa/config/externalConfig/e/Code\n1 /fa/commoncore/prjInfo/getOpenedPrjInfoList\n1 /fa/ledger/inAssetDepreciate\n1 /fa/ledger/accbook/t\n1 /fa/commoncore/assetCommonCore/remoteGetCurrenUserInfo\n1 /fa/commoncore/wordFlow/remoteGetWorkFlowIsEnd\n1 /fa/bizconfig/assetUseAddress/getUseAddressList\n1 /fa/ledger/depreciateExeBudgetSetting/batchImportDepreciateExeBudget\n1 /fa/ledger/depreciateExeBudgetSetting/getBatchImportResult\n1 /fa/commoncore/prjInfo/getOpenedExeBudgetInfoListAll\n1 /fa/bizconfig/inAssetRoom/getInAssetRoomList\n1 /fa/ledger/depreciateExeBudgetSetting/p\n1 /fa/config/assetDeptManagerConfig/checkCurrUserRole\n1 /fa/ledger/assetDepreciate/getCheckIsAllGenVoucherResult\n1 /fa/commoncore/userInfo/m/Id\n1 /fa/bizconfig/warehouse/remoteGetWareHouseVoList\n1 /fa/commoncore/userInfo/m/userId\n1 /fa/asset/assetExtendInfo/m\n1 /fa/bizconfig/paramConfig/remoteGetIsEnableOU\n1 /fa/asset/assetModify/batchDownloadBizData\n1 /fa/commoncore/uniqueValidate/uniqueValidate/AssetModify/applyCode/code/new\n1 /fa/commoncore/uniqueValidate/uniqueValidate/AssetAcpt/stockInCode/code/hash\n1 /fa/asset/assetModify/hash\n1 /fa/bizconfig/paramConfig/m/Codes\n1 /fa/asset/assetModify/m=delete\n1 /fa/ledger/assetDepreciate/getDepreciateResult\n1 /fa/commoncore/todoCommonCore/remoteGetPagedPendingList\n1 /fa/asset/assetModify\n3 /fa/inasset/inAssetInfo/m\n1 /fa/commoncore/assetCommonCore/remoteGetCodeGenerator\n1 /fa/ledger/assetDepreciateRecord/sendVoucher\n1 /fa/purchase/assetAcpt/getAssetAcptInfo/info\n1 /fa/commoncore/bgUsageBudget/remoteCheckIsOverBudget\n1 /fa/inasset/inAssetModify/generateInAssetModifyApplyCode\n1 /fa/bizconfig/assetUseAddress/t/DeptId\n1 /fa/commoncore/todoCommonCore/remoteGetTotalTodoNum\n1 /fa/ledger/assetDepreciate/checkIsAllGenVoucher\n1 /fa/ledger/inassetDepreciateRecord/inassetDepreciateRecord\n1 /fa/bizconfig/assetExtendConfig/t\n1 /fa/ledger/inassetDepreciateRecord/sendVoucherForInAssetDepreciateRecord\n1 /fa/commoncore/uniqueValidate/uniqueValidate/InAssetModify/applyCode/code/hash\n1 /fa/commoncore/wordFlow/setRelativeData\n1 /fa/asset/assetInfo/remoteGetPagedCanUseList\n2 /fa/asset/assetInfo/m\n1 /fa/ledger/assetDepreciate\n1 /fa/ledger/assetAcc/remoteGetPagedAssetAccList\n1 /fa/inasset/inAssetModify/remoteGetPagedInAssetModifyList\n1 /fa/ledger/accbook/remoteGetAllAccbook\n1 /fa/commoncore/codeGenerator/remoteGetCodeGeneratorList\n1 /fa/commoncore/uniqueValidate/uniqueValidate/AssetModify/applyCode/code/hash\n1 /fa/purchase/assetAcpt/getVoPage\n1 /fa/bizconfig/paramConfig/m/Code\n1 /fa/inasset/inAssetInfo/remoteGetInAssetInfoList\n1 /fa/ledger/assetAcc/updateAssetAccInfo\n1 /fa/inasset/inAssetModify/hash\n1 /fa/purchase/assetAcpt/submitApproveOption\n1 /fa/asset/assetInfo/t/hash\n1 /fa/commoncore/prjInfo/getOpenedExeBudgetInfoList\n1 /fa/supplier/supplier/getSupplierList\n1 /fa/ledger/assetDepreciateRecord/getAssetSendVoucherResult\n1 /fa/ledger/inassetDepreciateRecord/getInAssetSendVoucherResult\n1 /fa/ledger/accbook/remoteCheckIsCanCloseCurrPeriod/hash\n1 /fa/asset/assetModify/remoteGetPagedAssetModifyList\n1 /fa/ledger/accbookPermission/remoteGetCurrAccbookPermission\n1 /fa/asset/assetPrjMap/hash\n1 /fa/inasset/inAssetModify/batchUpdateImportBizData\n1 /fa/purchase/assetAcpt/hash\n1 /fa/purchase/assetAcpt/getAssetAcptInfo/hash\n1 /fa/inasset/inAssetModify/batchDownloadBizData\n1 /fa/commoncore/userInfo/remoteGetCurrenUserInfo\n1 /fa/ledger/accbookAssetScope/checkDepsIsHaveConfigAccbookAsset\n1 /fa/commoncore/deptInfo/t/userId\n1 /fa/config/assetDeptManagerConfig/e\n1 /fa/asset/assetModify/batchImportBizData\n1 /fa/commoncore/downloadFile/w\n1 /fa/asset/assetAllRequest/remoteGetPagedAssetAllRequestList\n1 /fa/commoncore/uniqueValidate/uniqueValidate/InAssetInfo/assetTag/tags\n1 /fa/commoncore/prjInfo/t\n1 /fa/commoncore/uniqueValidate/uniqueValidate/AssetInfo/assetCode/code/hash\n1 /fa/inasset/inAssetModify\n1 /fa/ledger/depreciateExeBudgetSetting/remoteGetDepreciateExeBudgetPageForSetting\n1 /fa/commoncore/assetCommonCore/remoteGetDataDictionary\n1 /fa/bizconfig/warehouse/remoteGetWareHouseList\n1 /fa/ledger/assetAcc/e\n"
     ]
    }
   ],
   "source": [
    "def convertUrl(url: str)->str:\n",
    "    subs = url.split('/')\n",
    "    subs = subs[1:] if subs[0] == \"\" else subs\n",
    "    # print(subs)\n",
    "    for i, sub in enumerate(subs):\n",
    "        if len(sub) == 32:\n",
    "            subs[i] = \"id\"\n",
    "        elif i > 1:\n",
    "            if \"By\" in sub:\n",
    "                subs[i] = sub[i-1].split('By')[-1]\n",
    "            \n",
    "            # if \"ByCode\" in subs[i-1] or \"ByCodes\" in subs[i-1] or \"InCode\" in subs[i-1]:\n",
    "            #     subs[i] = \"code\"\n",
    "            # elif \"ById\" in subs[i-1] or \"ByIds\" in subs[i-1]:\n",
    "            #     subs[i] = \"id\"\n",
    "    \n",
    "    return \"/\" + \"/\".join(subs)\n",
    "                \n",
    "\n",
    "\n",
    "\n",
    "\n",
    "dic = dict()\n",
    "for url in urls:\n",
    "    template = convertUrl(url)\n",
    "    dic[template] = 1 if template not in dic else dic[template] + 1\n",
    "\n",
    "for k,v in dic.items():\n",
    "    print(v, k)\n",
    "\n"
   ]
  }
 ]
}