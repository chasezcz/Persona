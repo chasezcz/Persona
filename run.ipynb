{
 "cells": [
  {
   "cell_type": "markdown",
   "metadata": {},
   "source": [
    "# 数据清理"
   ]
  },
  {
   "cell_type": "markdown",
   "metadata": {},
   "source": [
    "## URL 合并"
   ]
  },
  {
   "cell_type": "code",
   "execution_count": 1,
   "metadata": {
    "ExecuteTime": {
     "end_time": "2020-12-04T08:55:52.322706Z",
     "start_time": "2020-12-04T08:55:52.313002Z"
    },
    "execution": {
     "iopub.execute_input": "2020-12-14T07:24:20.512915Z",
     "iopub.status.busy": "2020-12-14T07:24:20.512669Z",
     "iopub.status.idle": "2020-12-14T07:24:20.885573Z",
     "shell.execute_reply": "2020-12-14T07:24:20.884993Z",
     "shell.execute_reply.started": "2020-12-14T07:24:20.512888Z"
    },
    "run_control": {
     "marked": true
    },
    "scrolled": true,
    "tags": []
   },
   "outputs": [
    {
     "name": "stdout",
     "output_type": "stream",
     "text": [
      "994\n"
     ]
    }
   ],
   "source": [
    "# 导入数据文件\n",
    "\n",
    "# here put the import lib\n",
    "import os\n",
    "\n",
    "import logging as log\n",
    "import pandas as pd\n",
    "\n",
    "from modules.logger.logger import init as logInit\n",
    "from modules.logUtils.httpEvent import HttpEvent, TABLE_LABELS\n",
    "from modules.fileUtils.fileUtils import getFilesByPath\n",
    "from modules.config.argumentParser import argumentParser\n",
    "from modules.config.configParser import getValue as getValueFromConfig\n",
    "\n",
    "# CONFIG\n",
    "\n",
    "TABLE_LABELS = [\n",
    "    \"timestamp\",\n",
    "    \"threadId\",\n",
    "    \"institutionId\",\n",
    "    \"userId\",\n",
    "    \"url\",\n",
    "    \"method\",\n",
    "    \"statusCode\",\n",
    "    \"parameterType\",\n",
    "    \"parameterName\",\n",
    "    \"parameterValue\",\n",
    "    \"headers\",\n",
    "    \"name\",\n",
    "    \"ip\",\n",
    "    \"port\",\n",
    "    \"vpnip\"\n",
    "]\n",
    "# get all files.\n",
    "files = getFilesByPath(\"data/origin\")\n",
    "if not files: \n",
    "    print(\"there no any file. recorrect the input path.\")\n",
    "files = files\n",
    "\n",
    "import random\n",
    "\n",
    "# 随机抽取 RANDOM_FILES_NUMBER 数量的日志\n",
    "RANDOM_FILES_NUMBER = 0\n",
    "files = random.sample(files, RANDOM_FILES_NUMBER) if RANDOM_FILES_NUMBER != 0 else files\n",
    "\n",
    "print(len(files))\n",
    "# print(files)"
   ]
  },
  {
   "cell_type": "code",
   "execution_count": null,
   "metadata": {
    "ExecuteTime": {
     "end_time": "2020-12-04T08:58:09.620495Z",
     "start_time": "2020-12-04T08:57:07.693926Z"
    },
    "execution": {
     "iopub.execute_input": "2020-12-14T07:24:35.760543Z",
     "iopub.status.busy": "2020-12-14T07:24:35.760289Z"
    },
    "hideOutput": false,
    "hidePrompt": false,
    "tags": []
   },
   "outputs": [],
   "source": [
    "# 将数据读取到 DataFrame 中\n",
    "\n",
    "data = []\n",
    "for file in files:\n",
    "    count = 0\n",
    "    with open(file, 'r', encoding='utf-8') as f:\n",
    "        # read raw log by line.\n",
    "        for line in f:\n",
    "            try:\n",
    "                he = HttpEvent(line)\n",
    "                \n",
    "                # filter user\n",
    "                if he.userId == 'null': continue\n",
    "\n",
    "                # append to Data\n",
    "                data.extend([he.getSet()])\n",
    "                count += 1\n",
    "            except Exception as e:\n",
    "                log.debug(e)\n",
    "    log.info(\"{0} write {1} lines\".format(file, count))\n",
    "print(len(data), len(data[0]))\n",
    "# convert List to DataFrame\n",
    "# print(data[0])\n",
    "df = pd.DataFrame(data = data, columns=TABLE_LABELS)\n",
    "del data"
   ]
  },
  {
   "cell_type": "code",
   "execution_count": null,
   "metadata": {
    "ExecuteTime": {
     "end_time": "2020-12-04T09:00:28.379400Z",
     "start_time": "2020-12-04T09:00:19.373089Z"
    }
   },
   "outputs": [],
   "source": [
    "# 保存到 CSV\n",
    "df.to_csv(\"data/tmp/full.csv\", sep=\"^\")\n",
    "!ls -l data/tmp/full.csv"
   ]
  },
  {
   "cell_type": "code",
   "execution_count": null,
   "metadata": {},
   "outputs": [],
   "source": [
    "# 从 CSV 读取\n",
    "import pandas as pd\n",
    "df = pd.read_csv('data/tmp/full.csv', sep='^')"
   ]
  },
  {
   "cell_type": "code",
   "execution_count": null,
   "metadata": {
    "ExecuteTime": {
     "end_time": "2020-12-04T09:02:37.419109Z",
     "start_time": "2020-12-04T09:02:37.231403Z"
    }
   },
   "outputs": [],
   "source": [
    "# 查看机构号\n",
    "institutesDF = df.institutionId\n",
    "institutes = institutesDF.value_counts()\n",
    "for k, v in institutes.items():\n",
    "    print(v, k)"
   ]
  },
  {
   "cell_type": "code",
   "execution_count": null,
   "metadata": {
    "ExecuteTime": {
     "end_time": "2020-12-04T09:02:54.163271Z",
     "start_time": "2020-12-04T09:02:53.810364Z"
    },
    "scrolled": true
   },
   "outputs": [],
   "source": [
    "# 查看 userId\n",
    "userIdDF = df.userId\n",
    "users = userIdDF.value_counts()\n",
    "for k, v in users.items():\n",
    "    print(v, k)\n",
    "print(len(users))"
   ]
  },
  {
   "cell_type": "code",
   "execution_count": null,
   "metadata": {
    "ExecuteTime": {
     "end_time": "2020-12-04T09:05:36.101783Z",
     "start_time": "2020-12-04T09:05:35.689593Z"
    },
    "run_control": {
     "marked": true
    },
    "scrolled": true
   },
   "outputs": [],
   "source": [
    "# 输出所有 url 和次数\n",
    "urlDF = df.url\n",
    "urls = urlDF.value_counts()\n",
    "\n",
    "# for k, v in urls.items():\n",
    "#     print(v, k)\n",
    "\n",
    "print(len(urls))"
   ]
  },
  {
   "cell_type": "code",
   "execution_count": null,
   "metadata": {},
   "outputs": [],
   "source": [
    "# convert all urls\n",
    "from modules.logUtils.urlFilter import urlConvert\n",
    "df['url'] = df['url'].apply(urlConvert, args=(set(df.userId.values), set(df.institutionId.values),  set(df.name.values),))\n",
    "# save to CSV\n",
    "df.to_csv(\"data/tmp/converedtUrl_full.csv\", sep='^')"
   ]
  },
  {
   "cell_type": "code",
   "execution_count": null,
   "metadata": {
    "scrolled": true
   },
   "outputs": [],
   "source": [
    "# 输出所有 url 和次数\n",
    "urlDF = df.url\n",
    "urls = urlDF.value_counts()\n",
    "\n",
    "# for k, v in urls.items():\n",
    "#     print(v, k)\n",
    "\n",
    "print(len(urls))"
   ]
  },
  {
   "cell_type": "code",
   "execution_count": null,
   "metadata": {},
   "outputs": [],
   "source": [
    "# delete bug log\n",
    "df = df.drop(index=(df.loc[(df.name=='何群辉')].index))\n",
    "# delete unused log\n",
    "df = df.drop(index=(df.loc[(df.header==\"null\")].index))\n",
    "# delete unused column\n",
    "df = df.drop(['threadId', 'statusCode', 'parameterType'], axis=1)"
   ]
  },
  {
   "cell_type": "code",
   "execution_count": null,
   "metadata": {},
   "outputs": [],
   "source": [
    "# Sort by userId primary key, with time as the secondary key\n",
    "df.sort_values(by=['userId', 'timestamp'])"
   ]
  },
  {
   "cell_type": "code",
   "execution_count": null,
   "metadata": {},
   "outputs": [],
   "source": [
    "df.to_csv(\"data/tmp/baseDataSet.csv\", sep=\"^\")"
   ]
  },
  {
   "cell_type": "markdown",
   "metadata": {},
   "source": [
    "## URL 映射表制作"
   ]
  },
  {
   "cell_type": "code",
   "execution_count": null,
   "metadata": {},
   "outputs": [],
   "source": [
    "urlSet = set(df.url.values)\n",
    "urlToIndex = {url:i.__str__() for i, url in enumerate(urlSet)}\n",
    "urlIndexToUrl = {i.__str__():url for i, url in enumerate(urlSet)}\n",
    "print(len(urlToIndex), len(urlIndexToUrl))\n",
    "# print(urlIndexToUrl)\n",
    "import json\n",
    "import os\n",
    "if not os.path.exists('data/url'):\n",
    "    os.makedirs('data/url')\n",
    "    \n",
    "def writeJson(filename, dic):\n",
    "    with open(filename,'a', encoding=\"utf-8\") as outfile:\n",
    "        json.dump(dic,outfile,ensure_ascii=False)\n",
    "\n",
    "writeJson(\"data/url/urlToIndex.json\", urlToIndex)\n",
    "writeJson(\"data/url/urlIndexToUrl.json\", urlIndexToUrl)"
   ]
  },
  {
   "cell_type": "code",
   "execution_count": null,
   "metadata": {},
   "outputs": [],
   "source": [
    "# read json to dict\n",
    "def readJson(filename):\n",
    "    with open(filename, \"r\", encoding=\"utf-8\") as target:\n",
    "        return json.load(target)\n",
    "x = readJson('data/url/urlToIndex.json')\n",
    "print(len(x))"
   ]
  },
  {
   "cell_type": "markdown",
   "metadata": {},
   "source": [
    "## 会话识别"
   ]
  },
  {
   "cell_type": "code",
   "execution_count": null,
   "metadata": {
    "scrolled": true
   },
   "outputs": [],
   "source": [
    "def generateSession(hes: pd.DataFrame):\n",
    "    #########################################################\n",
    "    # TODO: simply save the index of url, and drop others.\n",
    "    #########################################################\n",
    "    \n",
    "    sessions = []\n",
    "    \n",
    "    # read by line\n",
    "    paths = []\n",
    "    lastHeaderKey = \"\"\n",
    "    lastHEDate = 0.0\n",
    "    threshold = 0\n",
    "    print(type(hes.timestamp))\n",
    "    \n",
    "#     for he in hes.itertuples():\n",
    "#         #  get session key in headers       \n",
    "#         headersJSON = json.loads(he.header)\n",
    "#         flag = False\n",
    "#         for header in headersJSON:\n",
    "#             flag = True if header['value']==lastHeaderKey else False\n",
    "            \n",
    "#         if not flag and float(he.timestamp) - lastHEDate > threshold:\n",
    "#             # start a new session\n",
    "#             if paths:\n",
    "#                 sessions.append(\"-\".join([urlToIndex[url] for url in paths]))\n",
    "#             paths.clear()\n",
    "#         ############\n",
    "#         print(he.timestamp, he.header, float(he.timestamp) - lastHEDate)\n",
    "#         ############\n",
    "            \n",
    "#         # update paths \n",
    "#         paths.append(he.url)\n",
    "#         lastHeaderKey = headersJSON[0]['value']\n",
    "#         lastHEDate = float(he.timestamp)\n",
    "#     sessions.append(\"-\".join([urlToIndex[url] for url in paths]))\n",
    "    return sessions\n",
    "\n",
    "        \n",
    "for userId, indexs in df.groupby('userId').groups.items():\n",
    "    tmpSessions = generateSession(df.loc[indexs])\n",
    "    print(tmpSessions)\n",
    "    break"
   ]
  },
  {
   "cell_type": "code",
   "execution_count": null,
   "metadata": {},
   "outputs": [],
   "source": [
    "headers = '''[{\"httpOnly\":false,\"maxAge\":-1,\"name\":\"Authorization\",\"secure\":false,\"value\":\"aTrSU0S4j6YQ\",\"version\":0}, {\"httpOnly\":false,\"maxAge\":-1,\"name\":\"Authorization\",\"secure\":false,\"value\":\"aTrSU0S4j654\",\"version\":0}]'''\n",
    "# print(headers)\n",
    "x = json.loads(headers)\n",
    "print(x[0]['value'])\n"
   ]
  },
  {
   "cell_type": "code",
   "execution_count": null,
   "metadata": {},
   "outputs": [],
   "source": [
    "paths = ['/fa/commoncore/todoCommonCore/remoteGetTotalTodoNum', '/portal/shortcutconfig/getConfigCompletion', '/portal/menus/mine/pc', '/portal/menus', '/portal/shortcutconfig/getConfigCompletion', '/portal/menus', '/portal/userusages', '/portal/menus/url', '/portal/dictionary/codes/code/code', '/portal/dictionary/codes/code/code', '/portal/dictionary/codes/code/code', '/portal/dictionary/codes/code/code', '/portal/menus/mine/pc', '/portal/shortcutconfig/getConfigCompletion', '/portal/menus/url', '/portal/dictionary/codes/code/code', '/portal/dictionary/codes/code/code', '/portal/dictionary/codes/code/code', '/portal/menus', '/portal/dictionary/codes/code/code', '/portal/userusages', '/pm/commoncore/todoCommonCore/getPmTotalPendingCount', '/od/workflow/getToDoList', '/od/tOdQpjOrgids/querySignProcess', '/od/tOdArchivesOutOrgids/getByOutTurnover', '/od/tOdArchivesOutOrgids/getByDocumentTypeTwo', '/od/tOdQpjOrgids/getBySignType', '/od/tOdArchivesInOrgids/queryInProcess', '/od/tOdArchivesInOrgids/getByInTypeCount', '/od/workflow/getToDoList', '/od/workflow/getAllTodoNumber', '/od/workflow/getToDoList', '/od/arp24Controller/getSsoURL', '/od/odRolePromissConfig/findAll', '/od/tOdFlowDefined/findAllValidChildByOdType', '/od/tOdQpjOrgids/getQueryList', '/od/arp24Controller/getSsoURL', '/od/odRolePromissConfig/findAll', '/od/tOdFlowDefined/findAllValidChildByOdType', '/od/tOdQpjOrgids/getQueryList', '/hr/thrpeople/', '/fin/arBill/getArBillAllTODOCount']\n",
    "# for url in paths:\n",
    "#     print(url)\n",
    "\n",
    "pathss = \"-\".join([urlToIndex[url] for url in paths])\n",
    "print(pathss)"
   ]
  },
  {
   "cell_type": "code",
   "execution_count": null,
   "metadata": {},
   "outputs": [],
   "source": [
    "['441-237', '1298', '463', '237', '463', '540', '1017', '346', '346-346', '346', '1298', '237', '1017', '346', '346', '346', '463-346', '540-1537-409-771-197-207-1199-1018-594-409-1013-409-823-110-691-1217-823-110-691-1217-1341-6']"
   ]
  },
  {
   "cell_type": "code",
   "execution_count": null,
   "metadata": {},
   "outputs": [],
   "source": [
    "print()"
   ]
  },
  {
   "cell_type": "code",
   "execution_count": null,
   "metadata": {},
   "outputs": [],
   "source": [
    "df.url.sort_values()"
   ]
  },
  {
   "cell_type": "markdown",
   "metadata": {},
   "source": [
    "## URL 原数据展示"
   ]
  },
  {
   "cell_type": "code",
   "execution_count": 39,
   "metadata": {
    "execution": {
     "iopub.execute_input": "2020-12-20T04:30:01.597410Z",
     "iopub.status.busy": "2020-12-20T04:30:01.597213Z",
     "iopub.status.idle": "2020-12-20T04:30:02.105673Z",
     "shell.execute_reply": "2020-12-20T04:30:02.104962Z",
     "shell.execute_reply.started": "2020-12-20T04:30:01.597383Z"
    }
   },
   "outputs": [
    {
     "data": {
      "text/plain": [
       "/od/workflow/getFlowStepInfo                                                                                     226109\n",
       "/od/workflow/getToDoList                                                                                          84223\n",
       "/fin/arBillAssembly/getRefInfoList                                                                                53779\n",
       "/portal/menus                                                                                                     50816\n",
       "/fin/arBillTravel/findGwHomeTicketDataById                                                                        44698\n",
       "                                                                                                                  ...  \n",
       "/fin/arBill/addPrintTimes/AC1EDE1EFFFFFFFFFF8002EDFFFFA2A1                                                            1\n",
       "/od/workflow/queryThroughLastActor/52841/manualActivity6/manualActivity5                                              1\n",
       "/fa/commoncore/uniqueValidate/uniqueValidate/AssetInfo/assetCode/GD202000862/3ef68c71c9ef4822877d27bb88f17ba5         1\n",
       "/fin/arBill/getArBill/AC1EFF82FFFFFFFFCC04AA0C000104DB/baseInfo/detailInfo                                            1\n",
       "/od/tOdArchivesInOrgids/feedback/d422296d85e74c8586b6b6b9ebe87ed7                                                     1\n",
       "Name: url, Length: 26934, dtype: int64"
      ]
     },
     "execution_count": 39,
     "metadata": {},
     "output_type": "execute_result"
    }
   ],
   "source": [
    "df.url.value_counts()"
   ]
  },
  {
   "cell_type": "code",
   "execution_count": null,
   "metadata": {},
   "outputs": [],
   "source": []
  },
  {
   "cell_type": "markdown",
   "metadata": {},
   "source": [
    "## URL 提纯展示"
   ]
  },
  {
   "cell_type": "code",
   "execution_count": 43,
   "metadata": {
    "execution": {
     "iopub.execute_input": "2020-12-20T04:32:39.747409Z",
     "iopub.status.busy": "2020-12-20T04:32:39.747221Z",
     "iopub.status.idle": "2020-12-20T04:32:55.899125Z",
     "shell.execute_reply": "2020-12-20T04:32:55.898571Z",
     "shell.execute_reply.started": "2020-12-20T04:32:39.747384Z"
    }
   },
   "outputs": [
    {
     "data": {
      "text/plain": [
       "/od/workflow/getFlowStepInfo                                     226109\n",
       "/od/workflow/getToDoList                                          84223\n",
       "/portal/dictionary/codes/code/code                                61164\n",
       "/fin/arBillAssembly/getRefInfoList                                53779\n",
       "/portal/menus                                                     50816\n",
       "                                                                  ...  \n",
       "/pm/exebudget/exeBudgetHist/hash/241711_820/241711_820/create         1\n",
       "/hr/orgUnits/updateTHOrgUnit/THOrgUnit/2020-08-24/454/35/32/0         1\n",
       "/fin/rmPrepareClaimList/exportClaim                                   1\n",
       "/fa/asset/assetReturn/remoteGetCurrenUserReturnApplyInfo/hash         1\n",
       "/pm/exebudget/exeBudgetHist/hash/241711_817/241711_817/create         1\n",
       "Name: url, Length: 1556, dtype: int64"
      ]
     },
     "execution_count": 43,
     "metadata": {},
     "output_type": "execute_result"
    }
   ],
   "source": [
    "# URL 提纯\n",
    "df['url'] = df['url'].apply(urlConvert, args=(set(df.userId.values), set(df.institutionId.values),  set(df.name.values),))\n",
    "df.url.value_counts()"
   ]
  },
  {
   "cell_type": "code",
   "execution_count": 45,
   "metadata": {
    "execution": {
     "iopub.execute_input": "2020-12-20T05:07:34.177557Z",
     "iopub.status.busy": "2020-12-20T05:07:34.177372Z",
     "iopub.status.idle": "2020-12-20T05:07:45.413643Z",
     "shell.execute_reply": "2020-12-20T05:07:45.412979Z",
     "shell.execute_reply.started": "2020-12-20T05:07:34.177532Z"
    }
   },
   "outputs": [
    {
     "name": "stderr",
     "output_type": "stream",
     "text": [
      "/opt/conda/envs/persona/lib/python3.7/site-packages/IPython/core/interactiveshell.py:2714: DtypeWarning: Columns (12) have mixed types.Specify dtype option on import or set low_memory=False.\n",
      "  interactivity=interactivity, compiler=compiler, result=result)\n"
     ]
    }
   ],
   "source": [
    "fsd = pd.read_csv(\"data/tmp/baseDataSet.csv\", encoding=\"utf-8\", sep=\"^\")"
   ]
  },
  {
   "cell_type": "code",
   "execution_count": 46,
   "metadata": {
    "execution": {
     "iopub.execute_input": "2020-12-20T05:07:52.909557Z",
     "iopub.status.busy": "2020-12-20T05:07:52.909369Z",
     "iopub.status.idle": "2020-12-20T05:07:52.931956Z",
     "shell.execute_reply": "2020-12-20T05:07:52.931417Z",
     "shell.execute_reply.started": "2020-12-20T05:07:52.909532Z"
    }
   },
   "outputs": [
    {
     "data": {
      "text/html": [
       "<div>\n",
       "<style scoped>\n",
       "    .dataframe tbody tr th:only-of-type {\n",
       "        vertical-align: middle;\n",
       "    }\n",
       "\n",
       "    .dataframe tbody tr th {\n",
       "        vertical-align: top;\n",
       "    }\n",
       "\n",
       "    .dataframe thead th {\n",
       "        text-align: right;\n",
       "    }\n",
       "</style>\n",
       "<table border=\"1\" class=\"dataframe\">\n",
       "  <thead>\n",
       "    <tr style=\"text-align: right;\">\n",
       "      <th></th>\n",
       "      <th>Unnamed: 0</th>\n",
       "      <th>timestamp</th>\n",
       "      <th>institutionId</th>\n",
       "      <th>userId</th>\n",
       "      <th>url</th>\n",
       "      <th>method</th>\n",
       "      <th>parameterName</th>\n",
       "      <th>parameterValue</th>\n",
       "      <th>headers</th>\n",
       "      <th>name</th>\n",
       "      <th>ip</th>\n",
       "      <th>port</th>\n",
       "      <th>vpnip</th>\n",
       "    </tr>\n",
       "  </thead>\n",
       "  <tbody>\n",
       "    <tr>\n",
       "      <th>0</th>\n",
       "      <td>0</td>\n",
       "      <td>1.597277e+09</td>\n",
       "      <td>310111</td>\n",
       "      <td>b2cb40368ffd4c568d28e5daf0341d36</td>\n",
       "      <td>/fa/commoncore/todoCommonCore/remoteGetTotalTo...</td>\n",
       "      <td>GET</td>\n",
       "      <td>[]</td>\n",
       "      <td>[]</td>\n",
       "      <td>[{\"httpOnly\":false,\"maxAge\":-1,\"name\":\"Authori...</td>\n",
       "      <td>周青松</td>\n",
       "      <td>159.226.99.40</td>\n",
       "      <td>0</td>\n",
       "      <td>0</td>\n",
       "    </tr>\n",
       "    <tr>\n",
       "      <th>1</th>\n",
       "      <td>1</td>\n",
       "      <td>1.597277e+09</td>\n",
       "      <td>310111</td>\n",
       "      <td>6fc9b7ec699f41e3b8d5a96635184f47</td>\n",
       "      <td>/fa/commoncore/todoCommonCore/remoteGetTotalTo...</td>\n",
       "      <td>GET</td>\n",
       "      <td>[]</td>\n",
       "      <td>[]</td>\n",
       "      <td>[{\"httpOnly\":false,\"maxAge\":-1,\"name\":\"Authori...</td>\n",
       "      <td>周庆华</td>\n",
       "      <td>159.226.99.35</td>\n",
       "      <td>0</td>\n",
       "      <td>0</td>\n",
       "    </tr>\n",
       "    <tr>\n",
       "      <th>2</th>\n",
       "      <td>2</td>\n",
       "      <td>1.597277e+09</td>\n",
       "      <td>310111</td>\n",
       "      <td>b2cb40368ffd4c568d28e5daf0341d36</td>\n",
       "      <td>/fa/commoncore/todoCommonCore/remoteGetTotalTo...</td>\n",
       "      <td>GET</td>\n",
       "      <td>[]</td>\n",
       "      <td>[]</td>\n",
       "      <td>[{\"httpOnly\":false,\"maxAge\":-1,\"name\":\"Authori...</td>\n",
       "      <td>周青松</td>\n",
       "      <td>159.226.99.40</td>\n",
       "      <td>0</td>\n",
       "      <td>0</td>\n",
       "    </tr>\n",
       "    <tr>\n",
       "      <th>3</th>\n",
       "      <td>3</td>\n",
       "      <td>1.597277e+09</td>\n",
       "      <td>310111</td>\n",
       "      <td>b2cb40368ffd4c568d28e5daf0341d36</td>\n",
       "      <td>/fa/commoncore/todoCommonCore/remoteGetTotalTo...</td>\n",
       "      <td>GET</td>\n",
       "      <td>[]</td>\n",
       "      <td>[]</td>\n",
       "      <td>[{\"httpOnly\":false,\"maxAge\":-1,\"name\":\"Authori...</td>\n",
       "      <td>周青松</td>\n",
       "      <td>159.226.99.40</td>\n",
       "      <td>0</td>\n",
       "      <td>0</td>\n",
       "    </tr>\n",
       "    <tr>\n",
       "      <th>4</th>\n",
       "      <td>4</td>\n",
       "      <td>1.597278e+09</td>\n",
       "      <td>310111</td>\n",
       "      <td>76a720f4c8b345b2a79a24dcaf22e862</td>\n",
       "      <td>/fa/commoncore/todoCommonCore/remoteGetTotalTo...</td>\n",
       "      <td>GET</td>\n",
       "      <td>[]</td>\n",
       "      <td>[]</td>\n",
       "      <td>[{\"httpOnly\":false,\"maxAge\":-1,\"name\":\"Authori...</td>\n",
       "      <td>马玥浩</td>\n",
       "      <td>159.226.99.36</td>\n",
       "      <td>0</td>\n",
       "      <td>0</td>\n",
       "    </tr>\n",
       "    <tr>\n",
       "      <th>...</th>\n",
       "      <td>...</td>\n",
       "      <td>...</td>\n",
       "      <td>...</td>\n",
       "      <td>...</td>\n",
       "      <td>...</td>\n",
       "      <td>...</td>\n",
       "      <td>...</td>\n",
       "      <td>...</td>\n",
       "      <td>...</td>\n",
       "      <td>...</td>\n",
       "      <td>...</td>\n",
       "      <td>...</td>\n",
       "      <td>...</td>\n",
       "    </tr>\n",
       "    <tr>\n",
       "      <th>1857041</th>\n",
       "      <td>2424859</td>\n",
       "      <td>1.596638e+09</td>\n",
       "      <td>241711</td>\n",
       "      <td>241711-1037</td>\n",
       "      <td>/fin/arBill/getArBillAllTODOCount</td>\n",
       "      <td>GET</td>\n",
       "      <td>[]</td>\n",
       "      <td>[]</td>\n",
       "      <td>[{\"httpOnly\":false,\"maxAge\":-1,\"name\":\"Authori...</td>\n",
       "      <td>胡笑然</td>\n",
       "      <td>223.104.3.171</td>\n",
       "      <td>0</td>\n",
       "      <td>0</td>\n",
       "    </tr>\n",
       "    <tr>\n",
       "      <th>1857042</th>\n",
       "      <td>2424860</td>\n",
       "      <td>1.596638e+09</td>\n",
       "      <td>241711</td>\n",
       "      <td>241711-3969</td>\n",
       "      <td>/fin/arBill/getArBillAllTODOCount</td>\n",
       "      <td>GET</td>\n",
       "      <td>[]</td>\n",
       "      <td>[]</td>\n",
       "      <td>[{\"httpOnly\":false,\"maxAge\":-1,\"name\":\"Authori...</td>\n",
       "      <td>董超</td>\n",
       "      <td>219.142.146.23</td>\n",
       "      <td>0</td>\n",
       "      <td>0</td>\n",
       "    </tr>\n",
       "    <tr>\n",
       "      <th>1857043</th>\n",
       "      <td>2424861</td>\n",
       "      <td>1.596638e+09</td>\n",
       "      <td>241711</td>\n",
       "      <td>241711-3969</td>\n",
       "      <td>/fin/arBill/getArBillAllTODOCount</td>\n",
       "      <td>GET</td>\n",
       "      <td>[]</td>\n",
       "      <td>[]</td>\n",
       "      <td>[{\"httpOnly\":false,\"maxAge\":-1,\"name\":\"Authori...</td>\n",
       "      <td>董超</td>\n",
       "      <td>219.142.146.23</td>\n",
       "      <td>0</td>\n",
       "      <td>0</td>\n",
       "    </tr>\n",
       "    <tr>\n",
       "      <th>1857044</th>\n",
       "      <td>2424862</td>\n",
       "      <td>1.596642e+09</td>\n",
       "      <td>241711</td>\n",
       "      <td>241711-3870</td>\n",
       "      <td>/fin/arBill/getArBillAllTODOCount</td>\n",
       "      <td>GET</td>\n",
       "      <td>[]</td>\n",
       "      <td>[]</td>\n",
       "      <td>[{\"httpOnly\":false,\"maxAge\":-1,\"name\":\"Authori...</td>\n",
       "      <td>韩瑞丁</td>\n",
       "      <td>120.244.178.207</td>\n",
       "      <td>0</td>\n",
       "      <td>0</td>\n",
       "    </tr>\n",
       "    <tr>\n",
       "      <th>1857045</th>\n",
       "      <td>2424863</td>\n",
       "      <td>1.596642e+09</td>\n",
       "      <td>241711</td>\n",
       "      <td>241711-3870</td>\n",
       "      <td>/fin/arBill/getArBillAllTODOCount</td>\n",
       "      <td>GET</td>\n",
       "      <td>[]</td>\n",
       "      <td>[]</td>\n",
       "      <td>[{\"httpOnly\":false,\"maxAge\":-1,\"name\":\"Authori...</td>\n",
       "      <td>韩瑞丁</td>\n",
       "      <td>120.244.178.207</td>\n",
       "      <td>0</td>\n",
       "      <td>0</td>\n",
       "    </tr>\n",
       "  </tbody>\n",
       "</table>\n",
       "<p>1857046 rows × 13 columns</p>\n",
       "</div>"
      ],
      "text/plain": [
       "         Unnamed: 0     timestamp  institutionId  \\\n",
       "0                 0  1.597277e+09         310111   \n",
       "1                 1  1.597277e+09         310111   \n",
       "2                 2  1.597277e+09         310111   \n",
       "3                 3  1.597277e+09         310111   \n",
       "4                 4  1.597278e+09         310111   \n",
       "...             ...           ...            ...   \n",
       "1857041     2424859  1.596638e+09         241711   \n",
       "1857042     2424860  1.596638e+09         241711   \n",
       "1857043     2424861  1.596638e+09         241711   \n",
       "1857044     2424862  1.596642e+09         241711   \n",
       "1857045     2424863  1.596642e+09         241711   \n",
       "\n",
       "                                   userId  \\\n",
       "0        b2cb40368ffd4c568d28e5daf0341d36   \n",
       "1        6fc9b7ec699f41e3b8d5a96635184f47   \n",
       "2        b2cb40368ffd4c568d28e5daf0341d36   \n",
       "3        b2cb40368ffd4c568d28e5daf0341d36   \n",
       "4        76a720f4c8b345b2a79a24dcaf22e862   \n",
       "...                                   ...   \n",
       "1857041                       241711-1037   \n",
       "1857042                       241711-3969   \n",
       "1857043                       241711-3969   \n",
       "1857044                       241711-3870   \n",
       "1857045                       241711-3870   \n",
       "\n",
       "                                                       url method  \\\n",
       "0        /fa/commoncore/todoCommonCore/remoteGetTotalTo...    GET   \n",
       "1        /fa/commoncore/todoCommonCore/remoteGetTotalTo...    GET   \n",
       "2        /fa/commoncore/todoCommonCore/remoteGetTotalTo...    GET   \n",
       "3        /fa/commoncore/todoCommonCore/remoteGetTotalTo...    GET   \n",
       "4        /fa/commoncore/todoCommonCore/remoteGetTotalTo...    GET   \n",
       "...                                                    ...    ...   \n",
       "1857041                  /fin/arBill/getArBillAllTODOCount    GET   \n",
       "1857042                  /fin/arBill/getArBillAllTODOCount    GET   \n",
       "1857043                  /fin/arBill/getArBillAllTODOCount    GET   \n",
       "1857044                  /fin/arBill/getArBillAllTODOCount    GET   \n",
       "1857045                  /fin/arBill/getArBillAllTODOCount    GET   \n",
       "\n",
       "        parameterName parameterValue  \\\n",
       "0                  []             []   \n",
       "1                  []             []   \n",
       "2                  []             []   \n",
       "3                  []             []   \n",
       "4                  []             []   \n",
       "...               ...            ...   \n",
       "1857041            []             []   \n",
       "1857042            []             []   \n",
       "1857043            []             []   \n",
       "1857044            []             []   \n",
       "1857045            []             []   \n",
       "\n",
       "                                                   headers name  \\\n",
       "0        [{\"httpOnly\":false,\"maxAge\":-1,\"name\":\"Authori...  周青松   \n",
       "1        [{\"httpOnly\":false,\"maxAge\":-1,\"name\":\"Authori...  周庆华   \n",
       "2        [{\"httpOnly\":false,\"maxAge\":-1,\"name\":\"Authori...  周青松   \n",
       "3        [{\"httpOnly\":false,\"maxAge\":-1,\"name\":\"Authori...  周青松   \n",
       "4        [{\"httpOnly\":false,\"maxAge\":-1,\"name\":\"Authori...  马玥浩   \n",
       "...                                                    ...  ...   \n",
       "1857041  [{\"httpOnly\":false,\"maxAge\":-1,\"name\":\"Authori...  胡笑然   \n",
       "1857042  [{\"httpOnly\":false,\"maxAge\":-1,\"name\":\"Authori...   董超   \n",
       "1857043  [{\"httpOnly\":false,\"maxAge\":-1,\"name\":\"Authori...   董超   \n",
       "1857044  [{\"httpOnly\":false,\"maxAge\":-1,\"name\":\"Authori...  韩瑞丁   \n",
       "1857045  [{\"httpOnly\":false,\"maxAge\":-1,\"name\":\"Authori...  韩瑞丁   \n",
       "\n",
       "                      ip  port vpnip  \n",
       "0          159.226.99.40     0     0  \n",
       "1          159.226.99.35     0     0  \n",
       "2          159.226.99.40     0     0  \n",
       "3          159.226.99.40     0     0  \n",
       "4          159.226.99.36     0     0  \n",
       "...                  ...   ...   ...  \n",
       "1857041    223.104.3.171     0     0  \n",
       "1857042   219.142.146.23     0     0  \n",
       "1857043   219.142.146.23     0     0  \n",
       "1857044  120.244.178.207     0     0  \n",
       "1857045  120.244.178.207     0     0  \n",
       "\n",
       "[1857046 rows x 13 columns]"
      ]
     },
     "execution_count": 46,
     "metadata": {},
     "output_type": "execute_result"
    }
   ],
   "source": [
    "fsd"
   ]
  },
  {
   "cell_type": "code",
   "execution_count": 54,
   "metadata": {
    "execution": {
     "iopub.execute_input": "2020-12-20T05:14:17.808138Z",
     "iopub.status.busy": "2020-12-20T05:14:17.807954Z",
     "iopub.status.idle": "2020-12-20T05:14:17.884063Z",
     "shell.execute_reply": "2020-12-20T05:14:17.883436Z",
     "shell.execute_reply.started": "2020-12-20T05:14:17.808112Z"
    }
   },
   "outputs": [],
   "source": [
    "# sum = 0\n",
    "# count = 0\n",
    "# dic = {}\n",
    "# with open('data/dataset/paths.csv', 'r') as f:\n",
    "#     flag = True\n",
    "#     for line in f:\n",
    "#         if flag:\n",
    "#             flag = False\n",
    "#         else:\n",
    "#             urls = line.split(',')[0]\n",
    "#             dic[len(urls)] = 1 if len(urls) not in dic else dic[len(urls)] + 1   \n",
    "# print(dic)\n",
    "\n",
    "pathDF = pd.read_csv('data/dataset/paths.csv')"
   ]
  },
  {
   "cell_type": "code",
   "execution_count": 71,
   "metadata": {
    "execution": {
     "iopub.execute_input": "2020-12-20T05:20:07.033472Z",
     "iopub.status.busy": "2020-12-20T05:20:07.033283Z",
     "iopub.status.idle": "2020-12-20T05:20:07.209165Z",
     "shell.execute_reply": "2020-12-20T05:20:07.208507Z",
     "shell.execute_reply.started": "2020-12-20T05:20:07.033446Z"
    }
   },
   "outputs": [],
   "source": [
    "pathDF['Unnamed: 0'] = pathDF['Unnamed: 0'].rename('paths')\n",
    "pathDF['len'] = pathDF['Unnamed: 0'].apply(lambda x: len(x.split('-')))"
   ]
  },
  {
   "cell_type": "markdown",
   "metadata": {},
   "source": [
    "## session中具有相同路径长度的数量"
   ]
  },
  {
   "cell_type": "code",
   "execution_count": 119,
   "metadata": {
    "execution": {
     "iopub.execute_input": "2020-12-20T05:48:57.696490Z",
     "iopub.status.busy": "2020-12-20T05:48:57.696302Z",
     "iopub.status.idle": "2020-12-20T05:48:57.702673Z",
     "shell.execute_reply": "2020-12-20T05:48:57.702110Z",
     "shell.execute_reply.started": "2020-12-20T05:48:57.696465Z"
    }
   },
   "outputs": [
    {
     "data": {
      "text/plain": [
       "19    781\n",
       "16    462\n",
       "20    291\n",
       "17    255\n",
       "15    234\n",
       "     ... \n",
       "4      53\n",
       "88     53\n",
       "90     53\n",
       "2      52\n",
       "1      52\n",
       "Name: len, Length: 100, dtype: int64"
      ]
     },
     "execution_count": 119,
     "metadata": {},
     "output_type": "execute_result"
    }
   ],
   "source": [
    "di = pathDF.len.value_counts()\n",
    "di = di[:100]\n",
    "di"
   ]
  },
  {
   "cell_type": "code",
   "execution_count": 77,
   "metadata": {
    "execution": {
     "iopub.execute_input": "2020-12-20T05:31:18.297397Z",
     "iopub.status.busy": "2020-12-20T05:31:18.297196Z",
     "iopub.status.idle": "2020-12-20T05:31:24.268350Z",
     "shell.execute_reply": "2020-12-20T05:31:24.267622Z",
     "shell.execute_reply.started": "2020-12-20T05:31:18.297370Z"
    }
   },
   "outputs": [
    {
     "name": "stderr",
     "output_type": "stream",
     "text": [
      "WARNING:matplotlib.font_manager:Matplotlib is building the font cache; this may take a moment.\n"
     ]
    }
   ],
   "source": [
    "import matplotlib.pyplot as plt"
   ]
  },
  {
   "cell_type": "code",
   "execution_count": 105,
   "metadata": {
    "execution": {
     "iopub.execute_input": "2020-12-20T05:45:32.684034Z",
     "iopub.status.busy": "2020-12-20T05:45:32.683835Z",
     "iopub.status.idle": "2020-12-20T05:45:32.687457Z",
     "shell.execute_reply": "2020-12-20T05:45:32.686872Z",
     "shell.execute_reply.started": "2020-12-20T05:45:32.684007Z"
    }
   },
   "outputs": [
    {
     "name": "stdout",
     "output_type": "stream",
     "text": [
      "Series([], Name: len, dtype: int64)\n"
     ]
    }
   ],
   "source": [
    "print(co)"
   ]
  },
  {
   "cell_type": "code",
   "execution_count": 120,
   "metadata": {
    "execution": {
     "iopub.execute_input": "2020-12-20T05:48:59.652525Z",
     "iopub.status.busy": "2020-12-20T05:48:59.652335Z",
     "iopub.status.idle": "2020-12-20T05:48:59.816528Z",
     "shell.execute_reply": "2020-12-20T05:48:59.815884Z",
     "shell.execute_reply.started": "2020-12-20T05:48:59.652498Z"
    }
   },
   "outputs": [
    {
     "data": {
      "text/plain": [
       "<matplotlib.collections.PathCollection at 0x7fd5b0d1b710>"
      ]
     },
     "execution_count": 120,
     "metadata": {},
     "output_type": "execute_result"
    },
    {
     "data": {
      "image/png": "[encoded data removed]",
      "text/plain": [
       "<Figure size 432x288 with 1 Axes>"
      ]
     },
     "metadata": {
      "needs_background": "light"
     },
     "output_type": "display_data"
    }
   ],
   "source": [
    "plt.scatter(di.keys(), di.values)"
   ]
  },
  {
   "cell_type": "code",
   "execution_count": 91,
   "metadata": {
    "execution": {
     "iopub.execute_input": "2020-12-20T05:36:20.410952Z",
     "iopub.status.busy": "2020-12-20T05:36:20.410761Z",
     "iopub.status.idle": "2020-12-20T05:36:20.416446Z",
     "shell.execute_reply": "2020-12-20T05:36:20.415885Z",
     "shell.execute_reply.started": "2020-12-20T05:36:20.410926Z"
    }
   },
   "outputs": [
    {
     "data": {
      "text/plain": [
       "array([781, 462, 291, 255, 234, 209, 208, 208, 207, 194, 186, 179, 179,\n",
       "       172, 172, 172, 171, 171, 171, 171, 170, 169, 165, 152, 151, 143,\n",
       "       141, 141, 140, 138, 137, 137, 136, 135, 134, 133, 133, 129, 129,\n",
       "       129, 127, 126, 120, 119, 118, 118, 106, 106, 105, 103, 102, 101,\n",
       "       100,  98,  97,  95,  94,  94,  92,  89,  88,  85,  85,  82,  82,\n",
       "        82,  81,  80,  80,  79,  79,  78,  78,  77,  75,  71,  70,  68,\n",
       "        67,  66,  65,  65,  65,  65,  62,  61,  60,  60,  58,  56,  56,\n",
       "        55,  54,  54,  53,  53,  53,  53,  52,  52,  52,  48,  48,  48,\n",
       "        48,  47,  47,  46,  45,  45,  44,  43,  43,  43,  42,  42,  41,\n",
       "        41,  40,  39,  39,  38,  37,  37,  36,  35,  34,  34,  34,  33,\n",
       "        33,  33,  33,  31,  31,  31,  31,  31,  31,  30,  30,  30,  30,\n",
       "        28,  28,  27,  27,  27,  27,  26,  26,  25,  25,  25,  25,  24,\n",
       "        24,  23,  23,  23,  22,  22,  22,  22,  22,  22,  22,  22,  21,\n",
       "        21,  20,  20,  20,  20,  20,  19,  19,  18,  18,  17,  17,  17,\n",
       "        17,  17,  17,  16,  16,  16,  16,  16,  16,  16,  16,  16,  15,\n",
       "        15,  15,  15,  15,  14,  14,  14,  14,  13,  13,  13,  13,  13,\n",
       "        13,  12,  12,  12,  12,  12,  12,  12,  12,  12,  12,  12,  12,\n",
       "        12,  12,  12,  11,  11,  11,  11,  11,  11,  11,  11,  11,  11,\n",
       "        11,  11,  11,  11,  10,  10,  10,  10,   9,   9,   9,   9,   9,\n",
       "         9,   9,   9,   8,   8,   8,   8,   8,   8,   8,   8,   8,   8,\n",
       "         8,   8,   7,   7,   7,   7,   7,   7,   7,   7,   7,   7,   7,\n",
       "         7,   7,   7,   7,   7,   7,   7,   7,   7,   7,   7,   6,   6,\n",
       "         6,   6,   6,   6,   6,   6,   6,   6,   6,   6,   6,   6,   6,\n",
       "         6,   6,   6,   6,   6,   5,   5,   5,   5,   5,   5,   5,   5,\n",
       "         5,   5,   5,   5,   5,   5,   5,   5,   5,   5,   5,   5,   5,\n",
       "         5,   5,   5,   5,   5,   5,   5,   5,   5,   5,   5,   5,   4,\n",
       "         4,   4,   4,   4,   4,   4,   4,   4,   4,   4,   4,   4,   4,\n",
       "         4,   4,   4,   4,   4,   4,   4,   4,   4,   4,   4,   4,   4,\n",
       "         4,   4,   4,   4,   4,   4,   4,   4,   4,   4,   4,   4,   3,\n",
       "         3,   3,   3,   3,   3,   3,   3,   3,   3,   3,   3,   3,   3,\n",
       "         3,   3,   3,   3,   3,   3,   3,   3,   3,   3,   3,   3,   3,\n",
       "         3,   3,   3,   3,   3,   3,   3,   3,   3,   3,   3,   3,   3,\n",
       "         3,   3,   3,   3,   3,   3,   3,   3,   3,   3,   3,   3,   3,\n",
       "         2,   2,   2,   2,   2,   2,   2,   2,   2,   2,   2,   2,   2,\n",
       "         2,   2,   2,   2,   2,   2,   2,   2,   2,   2,   2,   2,   2,\n",
       "         2,   2,   2,   2,   2,   2,   2,   2,   2,   2,   2,   2,   2,\n",
       "         2,   2,   2,   2,   2,   2,   2,   2,   2,   2,   2,   2,   2,\n",
       "         2,   2,   2,   2,   2,   2,   2,   2,   2,   2,   2,   2,   2,\n",
       "         2,   2,   2,   2,   2,   2,   2,   2,   2,   2,   2,   2,   2,\n",
       "         2,   2,   2,   2,   2,   2,   2,   2,   2,   2,   2,   2,   2,\n",
       "         2,   1,   1,   1,   1,   1,   1,   1,   1,   1,   1,   1,   1,\n",
       "         1,   1,   1,   1,   1,   1,   1,   1,   1,   1,   1,   1,   1,\n",
       "         1,   1,   1,   1,   1,   1,   1,   1,   1,   1,   1,   1,   1,\n",
       "         1,   1,   1,   1,   1,   1,   1,   1,   1,   1,   1,   1,   1,\n",
       "         1,   1,   1,   1,   1,   1,   1,   1,   1,   1,   1,   1,   1,\n",
       "         1,   1,   1,   1,   1,   1,   1,   1,   1,   1,   1,   1,   1,\n",
       "         1,   1,   1,   1,   1,   1,   1,   1,   1,   1,   1,   1,   1,\n",
       "         1,   1,   1,   1,   1,   1,   1,   1,   1,   1,   1,   1,   1,\n",
       "         1,   1,   1,   1,   1,   1,   1,   1,   1,   1,   1,   1,   1,\n",
       "         1,   1,   1,   1,   1,   1,   1,   1,   1,   1,   1,   1,   1,\n",
       "         1,   1,   1,   1,   1,   1,   1,   1,   1,   1,   1,   1,   1,\n",
       "         1,   1,   1,   1,   1,   1,   1,   1,   1,   1,   1,   1,   1,\n",
       "         1,   1,   1,   1,   1,   1,   1,   1,   1,   1,   1,   1,   1,\n",
       "         1,   1,   1,   1,   1,   1,   1,   1,   1,   1,   1,   1,   1,\n",
       "         1,   1,   1,   1,   1,   1,   1,   1,   1,   1,   1,   1,   1,\n",
       "         1,   1,   1,   1,   1,   1,   1,   1,   1,   1,   1,   1,   1,\n",
       "         1,   1,   1,   1,   1,   1,   1,   1,   1,   1,   1,   1,   1,\n",
       "         1,   1,   1,   1,   1,   1,   1,   1,   1,   1,   1,   1,   1,\n",
       "         1,   1,   1,   1,   1,   1,   1,   1,   1,   1,   1,   1,   1,\n",
       "         1,   1,   1,   1,   1,   1,   1,   1,   1,   1,   1,   1,   1,\n",
       "         1,   1,   1,   1,   1,   1,   1,   1,   1,   1,   1,   1,   1,\n",
       "         1,   1,   1,   1,   1,   1,   1,   1,   1,   1,   1,   1,   1,\n",
       "         1,   1])"
      ]
     },
     "execution_count": 91,
     "metadata": {},
     "output_type": "execute_result"
    }
   ],
   "source": [
    "di.keys()\n",
    "di.values"
   ]
  }
 ],
 "metadata": {
  "kernelspec": {
   "display_name": "persona",
   "language": "python",
   "name": "persona"
  },
  "language_info": {
   "codemirror_mode": {
    "name": "ipython",
    "version": 3
   },
   "file_extension": ".py",
   "mimetype": "text/x-python",
   "name": "python",
   "nbconvert_exporter": "python",
   "pygments_lexer": "ipython3",
   "version": "3.7.8"
  },
  "toc": {
   "base_numbering": 1,
   "nav_menu": {},
   "number_sections": true,
   "sideBar": true,
   "skip_h1_title": true,
   "title_cell": "Table of Contents",
   "title_sidebar": "Contents",
   "toc_cell": false,
   "toc_position": {
    "height": "calc(100% - 180px)",
    "left": "10px",
    "top": "150px",
    "width": "454px"
   },
   "toc_section_display": true,
   "toc_window_display": false
  },
  "varInspector": {
   "cols": {
    "lenName": 16,
    "lenType": 16,
    "lenVar": 40
   },
   "kernels_config": {
    "python": {
     "delete_cmd_postfix": "",
     "delete_cmd_prefix": "del ",
     "library": "var_list.py",
     "varRefreshCmd": "print(var_dic_list())"
    },
    "r": {
     "delete_cmd_postfix": ") ",
     "delete_cmd_prefix": "rm(",
     "library": "var_list.r",
     "varRefreshCmd": "cat(var_dic_list()) "
    }
   },
   "position": {
    "height": "741px",
    "left": "1858px",
    "right": "20px",
    "top": "120px",
    "width": "682px"
   },
   "types_to_exclude": [
    "module",
    "function",
    "builtin_function_or_method",
    "instance",
    "_Feature"
   ],
   "window_display": false
  }
 },
 "nbformat": 4,
 "nbformat_minor": 4
}
