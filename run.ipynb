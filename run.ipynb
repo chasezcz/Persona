{
 "cells": [
  {
   "cell_type": "markdown",
   "metadata": {},
   "source": [
    "# 数据清理"
   ]
  },
  {
   "cell_type": "markdown",
   "metadata": {},
   "source": [
    "## URL 合并"
   ]
  },
  {
   "cell_type": "code",
   "execution_count": 1,
   "metadata": {
    "ExecuteTime": {
     "end_time": "2020-12-04T08:55:52.322706Z",
     "start_time": "2020-12-04T08:55:52.313002Z"
    },
    "execution": {
     "iopub.execute_input": "2020-12-14T07:24:20.512915Z",
     "iopub.status.busy": "2020-12-14T07:24:20.512669Z",
     "iopub.status.idle": "2020-12-14T07:24:20.885573Z",
     "shell.execute_reply": "2020-12-14T07:24:20.884993Z",
     "shell.execute_reply.started": "2020-12-14T07:24:20.512888Z"
    },
    "run_control": {
     "marked": true
    },
    "scrolled": true,
    "tags": []
   },
   "outputs": [
    {
     "name": "stdout",
     "output_type": "stream",
     "text": [
      "994\n"
     ]
    }
   ],
   "source": [
    "# 导入数据文件\n",
    "\n",
    "# here put the import lib\n",
    "import os\n",
    "\n",
    "import logging as log\n",
    "import pandas as pd\n",
    "\n",
    "from modules.logger.logger import init as logInit\n",
    "from modules.logUtils.httpEvent import HttpEvent, TABLE_LABELS\n",
    "from modules.fileUtils.fileUtils import getFilesByPath\n",
    "from modules.config.argumentParser import argumentParser\n",
    "from modules.config.configParser import getValue as getValueFromConfig\n",
    "\n",
    "# CONFIG\n",
    "\n",
    "TABLE_LABELS = [\n",
    "    \"timestamp\",\n",
    "    \"threadId\",\n",
    "    \"institutionId\",\n",
    "    \"userId\",\n",
    "    \"url\",\n",
    "    \"method\",\n",
    "    \"statusCode\",\n",
    "    \"parameterType\",\n",
    "    \"parameterName\",\n",
    "    \"parameterValue\",\n",
    "    \"headers\",\n",
    "    \"name\",\n",
    "    \"ip\",\n",
    "    \"port\",\n",
    "    \"vpnip\"\n",
    "]\n",
    "# get all files.\n",
    "files = getFilesByPath(\"data/origin\")\n",
    "if not files: \n",
    "    print(\"there no any file. recorrect the input path.\")\n",
    "files = files\n",
    "\n",
    "import random\n",
    "\n",
    "# 随机抽取 RANDOM_FILES_NUMBER 数量的日志\n",
    "RANDOM_FILES_NUMBER = 0\n",
    "files = random.sample(files, RANDOM_FILES_NUMBER) if RANDOM_FILES_NUMBER != 0 else files\n",
    "\n",
    "print(len(files))\n",
    "# print(files)"
   ]
  },
  {
   "cell_type": "code",
   "execution_count": null,
   "metadata": {
    "ExecuteTime": {
     "end_time": "2020-12-04T08:58:09.620495Z",
     "start_time": "2020-12-04T08:57:07.693926Z"
    },
    "execution": {
     "iopub.execute_input": "2020-12-14T07:24:35.760543Z",
     "iopub.status.busy": "2020-12-14T07:24:35.760289Z"
    },
    "hideOutput": false,
    "hidePrompt": false,
    "tags": []
   },
   "outputs": [],
   "source": [
    "# 将数据读取到 DataFrame 中\n",
    "\n",
    "data = []\n",
    "for file in files:\n",
    "    count = 0\n",
    "    with open(file, 'r', encoding='utf-8') as f:\n",
    "        # read raw log by line.\n",
    "        for line in f:\n",
    "            try:\n",
    "                he = HttpEvent(line)\n",
    "                \n",
    "                # filter user\n",
    "                if he.userId == 'null': continue\n",
    "\n",
    "                # append to Data\n",
    "                data.extend([he.getSet()])\n",
    "                count += 1\n",
    "            except Exception as e:\n",
    "                log.debug(e)\n",
    "    log.info(\"{0} write {1} lines\".format(file, count))\n",
    "print(len(data), len(data[0]))\n",
    "# convert List to DataFrame\n",
    "# print(data[0])\n",
    "df = pd.DataFrame(data = data, columns=TABLE_LABELS)\n",
    "del data"
   ]
  },
  {
   "cell_type": "code",
   "execution_count": null,
   "metadata": {
    "ExecuteTime": {
     "end_time": "2020-12-04T09:00:28.379400Z",
     "start_time": "2020-12-04T09:00:19.373089Z"
    }
   },
   "outputs": [],
   "source": [
    "# 保存到 CSV\n",
    "df.to_csv(\"data/tmp/full.csv\", sep=\"^\")\n",
    "!ls -l data/tmp/full.csv"
   ]
  },
  {
   "cell_type": "code",
   "execution_count": null,
   "metadata": {},
   "outputs": [],
   "source": [
    "# 从 CSV 读取\n",
    "import pandas as pd\n",
    "df = pd.read_csv('data/tmp/full.csv', sep='^')"
   ]
  },
  {
   "cell_type": "code",
   "execution_count": null,
   "metadata": {
    "ExecuteTime": {
     "end_time": "2020-12-04T09:02:37.419109Z",
     "start_time": "2020-12-04T09:02:37.231403Z"
    }
   },
   "outputs": [],
   "source": [
    "# 查看机构号\n",
    "institutesDF = df.institutionId\n",
    "institutes = institutesDF.value_counts()\n",
    "for k, v in institutes.items():\n",
    "    print(v, k)"
   ]
  },
  {
   "cell_type": "code",
   "execution_count": null,
   "metadata": {
    "ExecuteTime": {
     "end_time": "2020-12-04T09:02:54.163271Z",
     "start_time": "2020-12-04T09:02:53.810364Z"
    },
    "scrolled": true
   },
   "outputs": [],
   "source": [
    "# 查看 userId\n",
    "userIdDF = df.userId\n",
    "users = userIdDF.value_counts()\n",
    "for k, v in users.items():\n",
    "    print(v, k)\n",
    "print(len(users))"
   ]
  },
  {
   "cell_type": "code",
   "execution_count": null,
   "metadata": {
    "ExecuteTime": {
     "end_time": "2020-12-04T09:05:36.101783Z",
     "start_time": "2020-12-04T09:05:35.689593Z"
    },
    "run_control": {
     "marked": true
    },
    "scrolled": true
   },
   "outputs": [],
   "source": [
    "# 输出所有 url 和次数\n",
    "urlDF = df.url\n",
    "urls = urlDF.value_counts()\n",
    "\n",
    "# for k, v in urls.items():\n",
    "#     print(v, k)\n",
    "\n",
    "print(len(urls))"
   ]
  },
  {
   "cell_type": "code",
   "execution_count": null,
   "metadata": {},
   "outputs": [],
   "source": [
    "# convert all urls\n",
    "from modules.logUtils.urlFilter import urlConvert\n",
    "df['url'] = df['url'].apply(urlConvert, args=(set(df.userId.values), set(df.institutionId.values),  set(df.name.values),))\n",
    "# save to CSV\n",
    "df.to_csv(\"data/tmp/converedtUrl_full.csv\", sep='^')"
   ]
  },
  {
   "cell_type": "code",
   "execution_count": null,
   "metadata": {
    "scrolled": true
   },
   "outputs": [],
   "source": [
    "# 输出所有 url 和次数\n",
    "urlDF = df.url\n",
    "urls = urlDF.value_counts()\n",
    "\n",
    "# for k, v in urls.items():\n",
    "#     print(v, k)\n",
    "\n",
    "print(len(urls))"
   ]
  },
  {
   "cell_type": "code",
   "execution_count": null,
   "metadata": {},
   "outputs": [],
   "source": [
    "# delete bug log\n",
    "df = df.drop(index=(df.loc[(df.name=='何群辉')].index))\n",
    "# delete unused log\n",
    "df = df.drop(index=(df.loc[(df.header==\"null\")].index))\n",
    "# delete unused column\n",
    "df = df.drop(['threadId', 'statusCode', 'parameterType'], axis=1)"
   ]
  },
  {
   "cell_type": "code",
   "execution_count": null,
   "metadata": {},
   "outputs": [],
   "source": [
    "# Sort by userId primary key, with time as the secondary key\n",
    "df.sort_values(by=['userId', 'timestamp'])"
   ]
  },
  {
   "cell_type": "code",
   "execution_count": null,
   "metadata": {},
   "outputs": [],
   "source": [
    "df.to_csv(\"data/tmp/baseDataSet.csv\", sep=\"^\")"
   ]
  },
  {
   "cell_type": "markdown",
   "metadata": {},
   "source": [
    "## URL 映射表制作"
   ]
  },
  {
   "cell_type": "code",
   "execution_count": null,
   "metadata": {},
   "outputs": [],
   "source": [
    "urlSet = set(df.url.values)\n",
    "urlToIndex = {url:i.__str__() for i, url in enumerate(urlSet)}\n",
    "urlIndexToUrl = {i.__str__():url for i, url in enumerate(urlSet)}\n",
    "print(len(urlToIndex), len(urlIndexToUrl))\n",
    "# print(urlIndexToUrl)\n",
    "import json\n",
    "import os\n",
    "if not os.path.exists('data/url'):\n",
    "    os.makedirs('data/url')\n",
    "    \n",
    "def writeJson(filename, dic):\n",
    "    with open(filename,'a', encoding=\"utf-8\") as outfile:\n",
    "        json.dump(dic,outfile,ensure_ascii=False)\n",
    "\n",
    "writeJson(\"data/url/urlToIndex.json\", urlToIndex)\n",
    "writeJson(\"data/url/urlIndexToUrl.json\", urlIndexToUrl)"
   ]
  },
  {
   "cell_type": "code",
   "execution_count": null,
   "metadata": {},
   "outputs": [],
   "source": [
    "# read json to dict\n",
    "def readJson(filename):\n",
    "    with open(filename, \"r\", encoding=\"utf-8\") as target:\n",
    "        return json.load(target)\n",
    "x = readJson('data/url/urlToIndex.json')\n",
    "print(len(x))"
   ]
  },
  {
   "cell_type": "markdown",
   "metadata": {},
   "source": [
    "## 会话识别"
   ]
  },
  {
   "cell_type": "code",
   "execution_count": null,
   "metadata": {
    "scrolled": true
   },
   "outputs": [],
   "source": [
    "def generateSession(hes: pd.DataFrame):\n",
    "    #########################################################\n",
    "    # TODO: simply save the index of url, and drop others.\n",
    "    #########################################################\n",
    "    \n",
    "    sessions = []\n",
    "    \n",
    "    # read by line\n",
    "    paths = []\n",
    "    lastHeaderKey = \"\"\n",
    "    lastHEDate = 0.0\n",
    "    threshold = 0\n",
    "    print(type(hes.timestamp))\n",
    "    \n",
    "#     for he in hes.itertuples():\n",
    "#         #  get session key in headers       \n",
    "#         headersJSON = json.loads(he.header)\n",
    "#         flag = False\n",
    "#         for header in headersJSON:\n",
    "#             flag = True if header['value']==lastHeaderKey else False\n",
    "            \n",
    "#         if not flag and float(he.timestamp) - lastHEDate > threshold:\n",
    "#             # start a new session\n",
    "#             if paths:\n",
    "#                 sessions.append(\"-\".join([urlToIndex[url] for url in paths]))\n",
    "#             paths.clear()\n",
    "#         ############\n",
    "#         print(he.timestamp, he.header, float(he.timestamp) - lastHEDate)\n",
    "#         ############\n",
    "            \n",
    "#         # update paths \n",
    "#         paths.append(he.url)\n",
    "#         lastHeaderKey = headersJSON[0]['value']\n",
    "#         lastHEDate = float(he.timestamp)\n",
    "#     sessions.append(\"-\".join([urlToIndex[url] for url in paths]))\n",
    "    return sessions\n",
    "\n",
    "        \n",
    "for userId, indexs in df.groupby('userId').groups.items():\n",
    "    tmpSessions = generateSession(df.loc[indexs])\n",
    "    print(tmpSessions)\n",
    "    break"
   ]
  },
  {
   "cell_type": "code",
   "execution_count": null,
   "metadata": {},
   "outputs": [],
   "source": [
    "headers = '''[{\"httpOnly\":false,\"maxAge\":-1,\"name\":\"Authorization\",\"secure\":false,\"value\":\"aTrSU0S4j6YQ\",\"version\":0}, {\"httpOnly\":false,\"maxAge\":-1,\"name\":\"Authorization\",\"secure\":false,\"value\":\"aTrSU0S4j654\",\"version\":0}]'''\n",
    "# print(headers)\n",
    "x = json.loads(headers)\n",
    "print(x[0]['value'])\n"
   ]
  },
  {
   "cell_type": "code",
   "execution_count": null,
   "metadata": {},
   "outputs": [],
   "source": [
    "paths = ['/fa/commoncore/todoCommonCore/remoteGetTotalTodoNum', '/portal/shortcutconfig/getConfigCompletion', '/portal/menus/mine/pc', '/portal/menus', '/portal/shortcutconfig/getConfigCompletion', '/portal/menus', '/portal/userusages', '/portal/menus/url', '/portal/dictionary/codes/code/code', '/portal/dictionary/codes/code/code', '/portal/dictionary/codes/code/code', '/portal/dictionary/codes/code/code', '/portal/menus/mine/pc', '/portal/shortcutconfig/getConfigCompletion', '/portal/menus/url', '/portal/dictionary/codes/code/code', '/portal/dictionary/codes/code/code', '/portal/dictionary/codes/code/code', '/portal/menus', '/portal/dictionary/codes/code/code', '/portal/userusages', '/pm/commoncore/todoCommonCore/getPmTotalPendingCount', '/od/workflow/getToDoList', '/od/tOdQpjOrgids/querySignProcess', '/od/tOdArchivesOutOrgids/getByOutTurnover', '/od/tOdArchivesOutOrgids/getByDocumentTypeTwo', '/od/tOdQpjOrgids/getBySignType', '/od/tOdArchivesInOrgids/queryInProcess', '/od/tOdArchivesInOrgids/getByInTypeCount', '/od/workflow/getToDoList', '/od/workflow/getAllTodoNumber', '/od/workflow/getToDoList', '/od/arp24Controller/getSsoURL', '/od/odRolePromissConfig/findAll', '/od/tOdFlowDefined/findAllValidChildByOdType', '/od/tOdQpjOrgids/getQueryList', '/od/arp24Controller/getSsoURL', '/od/odRolePromissConfig/findAll', '/od/tOdFlowDefined/findAllValidChildByOdType', '/od/tOdQpjOrgids/getQueryList', '/hr/thrpeople/', '/fin/arBill/getArBillAllTODOCount']\n",
    "# for url in paths:\n",
    "#     print(url)\n",
    "\n",
    "pathss = \"-\".join([urlToIndex[url] for url in paths])\n",
    "print(pathss)"
   ]
  },
  {
   "cell_type": "code",
   "execution_count": null,
   "metadata": {},
   "outputs": [],
   "source": [
    "['441-237', '1298', '463', '237', '463', '540', '1017', '346', '346-346', '346', '1298', '237', '1017', '346', '346', '346', '463-346', '540-1537-409-771-197-207-1199-1018-594-409-1013-409-823-110-691-1217-823-110-691-1217-1341-6']"
   ]
  },
  {
   "cell_type": "code",
   "execution_count": null,
   "metadata": {},
   "outputs": [],
   "source": [
    "print()"
   ]
  }
 ],
 "metadata": {
  "kernelspec": {
   "display_name": "persona",
   "language": "python",
   "name": "persona"
  },
  "language_info": {
   "codemirror_mode": {
    "name": "ipython",
    "version": 3
   },
   "file_extension": ".py",
   "mimetype": "text/x-python",
   "name": "python",
   "nbconvert_exporter": "python",
   "pygments_lexer": "ipython3",
   "version": "3.7.8"
  },
  "toc": {
   "base_numbering": 1,
   "nav_menu": {},
   "number_sections": true,
   "sideBar": true,
   "skip_h1_title": true,
   "title_cell": "Table of Contents",
   "title_sidebar": "Contents",
   "toc_cell": false,
   "toc_position": {
    "height": "calc(100% - 180px)",
    "left": "10px",
    "top": "150px",
    "width": "454px"
   },
   "toc_section_display": true,
   "toc_window_display": false
  },
  "varInspector": {
   "cols": {
    "lenName": 16,
    "lenType": 16,
    "lenVar": 40
   },
   "kernels_config": {
    "python": {
     "delete_cmd_postfix": "",
     "delete_cmd_prefix": "del ",
     "library": "var_list.py",
     "varRefreshCmd": "print(var_dic_list())"
    },
    "r": {
     "delete_cmd_postfix": ") ",
     "delete_cmd_prefix": "rm(",
     "library": "var_list.r",
     "varRefreshCmd": "cat(var_dic_list()) "
    }
   },
   "position": {
    "height": "741px",
    "left": "1858px",
    "right": "20px",
    "top": "120px",
    "width": "682px"
   },
   "types_to_exclude": [
    "module",
    "function",
    "builtin_function_or_method",
    "instance",
    "_Feature"
   ],
   "window_display": false
  }
 },
 "nbformat": 4,
 "nbformat_minor": 4
}
