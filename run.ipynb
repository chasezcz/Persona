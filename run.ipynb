{
 "metadata": {
  "language_info": {
   "codemirror_mode": {
    "name": "ipython",
    "version": 3
   },
   "file_extension": ".py",
   "mimetype": "text/x-python",
   "name": "python",
   "nbconvert_exporter": "python",
   "pygments_lexer": "ipython3",
   "version": "3.7.0-final"
  },
  "orig_nbformat": 2,
  "kernelspec": {
   "name": "python3",
   "display_name": "Python 3"
  }
 },
 "nbformat": 4,
 "nbformat_minor": 2,
 "cells": [
  {
   "cell_type": "code",
   "execution_count": 28,
   "metadata": {
    "tags": []
   },
   "outputs": [
    {
     "output_type": "stream",
     "name": "stdout",
     "text": [
      "200\n['data/origin/syjs/fa/api.log', 'data/origin/syjs/fa/api.log_2020-09-28.log', 'data/origin/syjs/fa/api.log_2020-10-14.log', 'data/origin/syjs/fa/icaslog.log', 'data/origin/syjs/fa/icaslog.log_2020-09-20.log', 'data/origin/syjs/fa/icaslog.log_2020-09-21.log', 'data/origin/syjs/fa/icaslog.log_2020-09-22.log', 'data/origin/syjs/fa/icaslog.log_2020-09-23.log', 'data/origin/syjs/fa/icaslog.log_2020-09-24.log', 'data/origin/syjs/fa/icaslog.log_2020-09-25.log', 'data/origin/syjs/fa/icaslog.log_2020-09-26.log', 'data/origin/syjs/fa/icaslog.log_2020-09-27.log', 'data/origin/syjs/fa/icaslog.log_2020-09-28.log', 'data/origin/syjs/fa/icaslog.log_2020-09-29.log', 'data/origin/syjs/fa/icaslog.log_2020-09-30.log', 'data/origin/syjs/fa/icaslog.log_2020-10-01.log', 'data/origin/syjs/fa/icaslog.log_2020-10-02.log', 'data/origin/syjs/fa/icaslog.log_2020-10-03.log', 'data/origin/syjs/fa/icaslog.log_2020-10-04.log', 'data/origin/syjs/fa/icaslog.log_2020-10-05.log', 'data/origin/syjs/fa/icaslog.log_2020-10-06.log', 'data/origin/syjs/fa/icaslog.log_2020-10-07.log', 'data/origin/syjs/fa/icaslog.log_2020-10-08.log', 'data/origin/syjs/fa/icaslog.log_2020-10-09.log', 'data/origin/syjs/fa/icaslog.log_2020-10-10.log', 'data/origin/syjs/fa/icaslog.log_2020-10-11.log', 'data/origin/syjs/fa/icaslog.log_2020-10-12.log', 'data/origin/syjs/fa/icaslog.log_2020-10-13.log', 'data/origin/syjs/fa/icaslog.log_2020-10-14.log', 'data/origin/syjs/fa/icaslog.log_2020-10-15.log', 'data/origin/syjs/fa/icaslog.log_2020-10-16.log', 'data/origin/syjs/fa/icaslog.log_2020-10-17.log', 'data/origin/syjs/fa/icaslog.log_2020-10-18.log', 'data/origin/syjs/fa/icaslog.log_2020-10-19.log', 'data/origin/syjs/fa/icaslog.log_2020-10-20.log', 'data/origin/syjs/fa/icaslog.log_2020-10-21.log', 'data/origin/syjs/fa/icaslog.log_2020-10-22.log', 'data/origin/syjs/fa/icaslog.log_2020-10-23.log', 'data/origin/syjs/fa/icaslog.log_2020-10-24.log', 'data/origin/syjs/fa/icaslog.log_2020-10-25.log', 'data/origin/syjs/fa/icaslog.log_2020-10-26.log', 'data/origin/syjs/fa/icaslog.log_2020-10-27.log', 'data/origin/syjs/fa/icaslog.log_2020-10-28.log', 'data/origin/syjs/fa/icaslog.log_2020-10-29.log', 'data/origin/syjs/fa/icaslog.log_2020-10-30.log', 'data/origin/syjs/fa/icaslog.log_2020-10-31.log', 'data/origin/syjs/fa/icaslog.log_2020-11-01.log', 'data/origin/syjs/fa/icaslog.log_2020-11-02.log', 'data/origin/syjs/fa/icaslog.log_2020-11-03.log', 'data/origin/syjs/fa/icaslog.log_2020-11-04.log', 'data/origin/syjs/fa/icaslog.log_2020-11-05.log', 'data/origin/syjs/fa/icaslog.log_2020-11-06.log', 'data/origin/syjs/fa/icaslog.log_2020-11-07.log', 'data/origin/syjs/fa/icaslog.log_2020-11-08.log', 'data/origin/syjs/fa/icaslog.log_2020-11-09.log', 'data/origin/syjs/fa/icaslog.log_2020-11-10.log', 'data/origin/syjs/fa/icaslog.log_2020-11-11.log', 'data/origin/syjs/fa/icaslog.log_2020-11-12.log', 'data/origin/syjs/fa/icaslog.log_2020-11-13.log', 'data/origin/syjs/fa/icaslog.log_2020-11-14.log', 'data/origin/syjs/fa/icaslog.log_2020-11-15.log', 'data/origin/syjs/fa/icaslog.log_2020-11-16.log', 'data/origin/syjs/fa/icaslog.log_2020-11-17.log', 'data/origin/syjs/fa/icaslog.log_2020-11-18.log', 'data/origin/syjs/fa/icaslog.log_2020-11-19.log', 'data/origin/syjs/fa/icaslog.log_2020-11-20.log', 'data/origin/syjs/fa/icaslog.log_2020-11-21.log', 'data/origin/syjs/fa/icaslog.log_2020-11-22.log', 'data/origin/syjs/fin/api.log', 'data/origin/syjs/fin/api.log_2020-09-08.log', 'data/origin/syjs/fin/api.log_2020-09-10.log', 'data/origin/syjs/fin/api.log_2020-09-14.log', 'data/origin/syjs/fin/api.log_2020-09-15.log', 'data/origin/syjs/fin/api.log_2020-09-16.log', 'data/origin/syjs/fin/api.log_2020-09-17.log', 'data/origin/syjs/fin/api.log_2020-09-18.log', 'data/origin/syjs/fin/api.log_2020-09-21.log', 'data/origin/syjs/fin/api.log_2020-09-22.log', 'data/origin/syjs/fin/api.log_2020-09-23.log', 'data/origin/syjs/fin/api.log_2020-09-24.log', 'data/origin/syjs/fin/api.log_2020-09-25.log', 'data/origin/syjs/fin/api.log_2020-09-27.log', 'data/origin/syjs/fin/api.log_2020-09-28.log', 'data/origin/syjs/fin/api.log_2020-09-29.log', 'data/origin/syjs/fin/api.log_2020-10-09.log', 'data/origin/syjs/fin/api.log_2020-10-12.log', 'data/origin/syjs/fin/api.log_2020-10-13.log', 'data/origin/syjs/fin/api.log_2020-10-14.log', 'data/origin/syjs/fin/api.log_2020-10-15.log', 'data/origin/syjs/fin/api.log_2020-10-16.log', 'data/origin/syjs/fin/api.log_2020-10-19.log', 'data/origin/syjs/fin/api.log_2020-10-20.log', 'data/origin/syjs/fin/api.log_2020-10-21.log', 'data/origin/syjs/fin/api.log_2020-10-22.log', 'data/origin/syjs/fin/api.log_2020-10-23.log', 'data/origin/syjs/fin/api.log_2020-10-26.log', 'data/origin/syjs/fin/api.log_2020-10-27.log', 'data/origin/syjs/fin/api.log_2020-10-28.log', 'data/origin/syjs/fin/api.log_2020-10-30.log', 'data/origin/syjs/fin/api.log_2020-11-02.log', 'data/origin/syjs/fin/api.log_2020-11-03.log', 'data/origin/syjs/fin/api.log_2020-11-04.log', 'data/origin/syjs/fin/api.log_2020-11-05.log', 'data/origin/syjs/fin/api.log_2020-11-06.log', 'data/origin/syjs/fin/api.log_2020-11-09.log', 'data/origin/syjs/fin/api.log_2020-11-10.log', 'data/origin/syjs/fin/api.log_2020-11-11.log', 'data/origin/syjs/fin/api.log_2020-11-12.log', 'data/origin/syjs/fin/api.log_2020-11-13.log', 'data/origin/syjs/fin/api.log_2020-11-16.log', 'data/origin/syjs/fin/api.log_2020-11-18.log', 'data/origin/syjs/fin/api.log_2020-11-19.log', 'data/origin/syjs/fin/api.log_2020-11-20.log', 'data/origin/syjs/fin/icaslog.log', 'data/origin/syjs/fin/icaslog.log_2020-09-20.log', 'data/origin/syjs/fin/icaslog.log_2020-09-21.log', 'data/origin/syjs/fin/icaslog.log_2020-09-22.log', 'data/origin/syjs/fin/icaslog.log_2020-09-23.log', 'data/origin/syjs/fin/icaslog.log_2020-09-24.log', 'data/origin/syjs/fin/icaslog.log_2020-09-25.log', 'data/origin/syjs/fin/icaslog.log_2020-09-26.log', 'data/origin/syjs/fin/icaslog.log_2020-09-27.log', 'data/origin/syjs/fin/icaslog.log_2020-09-28.log', 'data/origin/syjs/fin/icaslog.log_2020-09-29.log', 'data/origin/syjs/fin/icaslog.log_2020-09-30.log', 'data/origin/syjs/fin/icaslog.log_2020-10-01.log', 'data/origin/syjs/fin/icaslog.log_2020-10-02.log', 'data/origin/syjs/fin/icaslog.log_2020-10-03.log', 'data/origin/syjs/fin/icaslog.log_2020-10-04.log', 'data/origin/syjs/fin/icaslog.log_2020-10-05.log', 'data/origin/syjs/fin/icaslog.log_2020-10-06.log', 'data/origin/syjs/fin/icaslog.log_2020-10-07.log', 'data/origin/syjs/fin/icaslog.log_2020-10-08.log', 'data/origin/syjs/fin/icaslog.log_2020-10-09.log', 'data/origin/syjs/fin/icaslog.log_2020-10-10.log', 'data/origin/syjs/fin/icaslog.log_2020-10-11.log', 'data/origin/syjs/fin/icaslog.log_2020-10-12.log', 'data/origin/syjs/fin/icaslog.log_2020-10-13.log', 'data/origin/syjs/fin/icaslog.log_2020-10-14.log', 'data/origin/syjs/fin/icaslog.log_2020-10-15.log', 'data/origin/syjs/fin/icaslog.log_2020-10-16.log', 'data/origin/syjs/fin/icaslog.log_2020-10-17.log', 'data/origin/syjs/fin/icaslog.log_2020-10-18.log', 'data/origin/syjs/fin/icaslog.log_2020-10-19.log', 'data/origin/syjs/fin/icaslog.log_2020-10-20.log', 'data/origin/syjs/fin/icaslog.log_2020-10-21.log', 'data/origin/syjs/fin/icaslog.log_2020-10-22.log', 'data/origin/syjs/fin/icaslog.log_2020-10-23.log', 'data/origin/syjs/fin/icaslog.log_2020-10-24.log', 'data/origin/syjs/fin/icaslog.log_2020-10-25.log', 'data/origin/syjs/fin/icaslog.log_2020-10-26.log', 'data/origin/syjs/fin/icaslog.log_2020-10-27.log', 'data/origin/syjs/fin/icaslog.log_2020-10-28.log', 'data/origin/syjs/fin/icaslog.log_2020-10-29.log', 'data/origin/syjs/fin/icaslog.log_2020-10-30.log', 'data/origin/syjs/fin/icaslog.log_2020-10-31.log', 'data/origin/syjs/fin/icaslog.log_2020-11-01.log', 'data/origin/syjs/fin/icaslog.log_2020-11-02.log', 'data/origin/syjs/fin/icaslog.log_2020-11-03.log', 'data/origin/syjs/fin/icaslog.log_2020-11-04.log', 'data/origin/syjs/fin/icaslog.log_2020-11-05.log', 'data/origin/syjs/fin/icaslog.log_2020-11-06.log', 'data/origin/syjs/fin/icaslog.log_2020-11-07.log', 'data/origin/syjs/fin/icaslog.log_2020-11-08.log', 'data/origin/syjs/fin/icaslog.log_2020-11-09.log', 'data/origin/syjs/fin/icaslog.log_2020-11-10.log', 'data/origin/syjs/fin/icaslog.log_2020-11-11.log', 'data/origin/syjs/fin/icaslog.log_2020-11-12.log', 'data/origin/syjs/fin/icaslog.log_2020-11-13.log', 'data/origin/syjs/fin/icaslog.log_2020-11-14.log', 'data/origin/syjs/fin/icaslog.log_2020-11-15.log', 'data/origin/syjs/fin/icaslog.log_2020-11-16.log', 'data/origin/syjs/fin/icaslog.log_2020-11-17.log', 'data/origin/syjs/fin/icaslog.log_2020-11-18.log', 'data/origin/syjs/fin/icaslog.log_2020-11-19.log', 'data/origin/syjs/fin/icaslog.log_2020-11-20.log', 'data/origin/syjs/fin/icaslog.log_2020-11-21.log', 'data/origin/syjs/fin/icaslog.log_2020-11-22.log', 'data/origin/syjs/hr/api.log', 'data/origin/syjs/hr/api.log_2020-09-08.log', 'data/origin/syjs/hr/api.log_2020-09-09.log', 'data/origin/syjs/hr/api.log_2020-09-10.log', 'data/origin/syjs/hr/api.log_2020-09-11.log', 'data/origin/syjs/hr/api.log_2020-09-12.log', 'data/origin/syjs/hr/api.log_2020-09-13.log', 'data/origin/syjs/hr/api.log_2020-09-14.log', 'data/origin/syjs/hr/api.log_2020-09-15.log', 'data/origin/syjs/hr/api.log_2020-09-16.log', 'data/origin/syjs/hr/api.log_2020-09-17.log', 'data/origin/syjs/hr/api.log_2020-09-18.log', 'data/origin/syjs/hr/api.log_2020-09-19.log', 'data/origin/syjs/hr/api.log_2020-09-20.log', 'data/origin/syjs/hr/api.log_2020-09-21.log', 'data/origin/syjs/hr/api.log_2020-09-22.log', 'data/origin/syjs/hr/api.log_2020-09-23.log', 'data/origin/syjs/hr/api.log_2020-09-24.log', 'data/origin/syjs/hr/api.log_2020-09-25.log', 'data/origin/syjs/hr/api.log_2020-09-26.log', 'data/origin/syjs/hr/api.log_2020-09-27.log', 'data/origin/syjs/hr/api.log_2020-09-28.log']\n"
     ]
    }
   ],
   "source": [
    "\n",
    "# here put the import lib\n",
    "import os\n",
    "\n",
    "import logging as log\n",
    "import pandas as pd\n",
    "\n",
    "from modules.logger.logger import init as logInit\n",
    "from modules.logUtils.httpEvent import HttpEvent, TABLE_LABELS\n",
    "from modules.fileUtils.fileUtils import getFilesByPath\n",
    "from modules.config.argumentParser import argumentParser\n",
    "from modules.config.configParser import getValue as getValueFromConfig\n",
    "\n",
    "# CONFIG\n",
    "\n",
    "TABLE_LABELS = [\n",
    "    \"timestamp\",\n",
    "    \"threadId\",\n",
    "    \"institutionId\",\n",
    "    \"userId\",\n",
    "    \"url\",\n",
    "    \"method\",\n",
    "    \"statusCode\",\n",
    "    \"parameterType\",\n",
    "    \"parameterName\",\n",
    "    \"parameterValue\",\n",
    "    \"header\",\n",
    "    \"ip\",\n",
    "    \"port\",\n",
    "    \"vpnip\"\n",
    "]\n",
    "# get all files.\n",
    "files = getFilesByPath(\"data/origin/syjs\")\n",
    "if not files: \n",
    "    print(\"there no any file. recorrect the input path.\")\n",
    "files = files[:200]\n",
    "\n",
    "print(len(files))\n",
    "print(files)\n",
    "\n",
    "# IF SMIPLY WRITE TO CSV\n",
    "# with open(os.path.join(output, \"\", \"tmp.csv\"), \"w\", encoding=\"utf-8\") as target:\n",
    "#     target.write(TABLE_LABELS+'\\n')\n",
    "# END\n"
   ]
  },
  {
   "cell_type": "code",
   "execution_count": 29,
   "metadata": {
    "tags": []
   },
   "outputs": [
    {
     "output_type": "stream",
     "name": "stdout",
     "text": [
      "181328 14\n"
     ]
    }
   ],
   "source": [
    "\n",
    "data = []\n",
    "for file in files:\n",
    "    count = 0\n",
    "    with open(file, 'r', encoding='utf-8') as f:\n",
    "        # read raw log by line.\n",
    "        for line in f:\n",
    "            try:\n",
    "                he = HttpEvent(line)\n",
    "                count += 1\n",
    "                # append to Data\n",
    "                data.extend([he.getSet()])\n",
    "            except Exception as e:\n",
    "                log.debug(e)\n",
    "    log.info(\"{0} write {1} lines\".format(file, count))\n",
    "print(len(data), len(data[0]))\n",
    "# convert List to DataFrame\n",
    "# print(data[0])\n",
    "df = pd.DataFrame(data = data, columns=TABLE_LABELS)\n"
   ]
  },
  {
   "cell_type": "code",
   "execution_count": 19,
   "metadata": {},
   "outputs": [
    {
     "output_type": "stream",
     "name": "stdout",
     "text": [
      "url的子串：\n{'submitApproveOption', 'AM0022,AM0009', 'config', 'ledger', 'assetDeptManagerConfig', 'prjInfo', 'remoteGetWareHouseVoList', '993622bb39aa4080ba6b8bc1067d388c', 'remoteGetPagedCanUseList', 'todoCommonCore', '1001038', 'IS_PRINT', 'AM0020,AM0022', 'assetAcpt', '1bdd6d4a246f44f6b8a3ee47efe3d35c', 'queryByCode', 'commoncore', 'checkCurrUserRole', 'remoteGetCurrenUserInfo', 'remoteGetCurrAccbookPermission', 'ZYS201100003', 'externalConfig', 'getOpenedExeBudgetInfoList', 'assetCommonCore', '02aeb80db4174d0b823587a944317d14', 'checkDepsIsHaveConfigAccbookAsset', 'getVoPage', 'uniqueValidate', 'stockInCode', '1000021', 'getExeBudgetInfoListByBudgetIds', 'bizconfig', 'attachment', 'accbookPermission', 'externalBtnConfig', 'purchase', 'remoteGetTotalTodoNum', 'getAttachmentPageByDataIds', 'accbookAssetScope', 'remoteGetParamConfigByCodes', '1000876', '1000358', 'warehouse', 'assetAcc', 'c2450be76f12433287d5906f9e750247', 'paramConfig', '06d4d703073b444498bce1a57644add4', 'remoteGetPagedPendingList', 'remoteGetDataDictionary', 'getAssetInfoVoById', 'assetInfo', 'remoteGetPagedAssetAccList', 'assetReceive', 'fa', 'AssetAcpt', 'getPagedMyAssetApply', 'asset', 'getAssetAcptInfo', '57f1fe7b75eb48c98570e9d2d2c04427', '9ed29cbdf25841ffa9133c46c0542814'}\n"
     ]
    }
   ],
   "source": [
    "urlDF = df.url\n",
    "\n",
    "# get ALL urls (complete) and sub urls\n",
    "urls = set(urlDF.values)\n",
    "for url in urls:\n",
    "    for subUrl in urls.split('/'):\n",
    "        \n",
    "            \n",
    "# subUrls = set([sub for url in urls for sub in url.split('/')])\n",
    "# subUrls.remove(\"\")\n",
    "\n",
    "print(\"url的子串：\")\n",
    "print(subUrls)"
   ]
  },
  {
   "cell_type": "code",
   "execution_count": 24,
   "metadata": {},
   "outputs": [
    {
     "output_type": "stream",
     "name": "stdout",
     "text": [
      "19 ['submitApproveOption']\n13 ['AM0022,AM0009', 'AM0020,AM0022']\n6 ['config', 'ledger']\n22 ['assetDeptManagerConfig']\n7 ['prjInfo', '1001038', '1000021', '1000876', '1000358']\n24 ['remoteGetWareHouseVoList', 'remoteGetPagedCanUseList']\n32 ['993622bb39aa4080ba6b8bc1067d388c', '1bdd6d4a246f44f6b8a3ee47efe3d35c', '02aeb80db4174d0b823587a944317d14', 'c2450be76f12433287d5906f9e750247', '06d4d703073b444498bce1a57644add4', '57f1fe7b75eb48c98570e9d2d2c04427', '9ed29cbdf25841ffa9133c46c0542814']\n14 ['todoCommonCore', 'externalConfig', 'uniqueValidate']\n8 ['IS_PRINT', 'purchase', 'assetAcc']\n9 ['assetAcpt', 'getVoPage', 'bizconfig', 'warehouse', 'assetInfo', 'AssetAcpt']\n11 ['queryByCode', 'stockInCode', 'paramConfig']\n10 ['commoncore', 'attachment']\n17 ['checkCurrUserRole', 'accbookPermission', 'externalBtnConfig', 'accbookAssetScope']\n23 ['remoteGetCurrenUserInfo', 'remoteGetDataDictionary']\n30 ['remoteGetCurrAccbookPermission']\n12 ['ZYS201100003', 'assetReceive']\n26 ['getOpenedExeBudgetInfoList', 'getAttachmentPageByDataIds', 'remoteGetPagedAssetAccList']\n15 ['assetCommonCore']\n33 ['checkDepsIsHaveConfigAccbookAsset']\n31 ['getExeBudgetInfoListByBudgetIds']\n21 ['remoteGetTotalTodoNum']\n27 ['remoteGetParamConfigByCodes']\n25 ['remoteGetPagedPendingList']\n18 ['getAssetInfoVoById']\n2 ['fa']\n20 ['getPagedMyAssetApply']\n5 ['asset']\n16 ['getAssetAcptInfo']\n"
     ]
    }
   ],
   "source": [
    "import collections\n",
    "dic = collections.defaultdict(list)\n",
    "\n",
    "for url in subUrls:\n",
    "    dic[len(url)].append(url)\n",
    "for i, j in dic.items():\n",
    "    print(i, j)\n",
    "# 按照长度进行统计"
   ]
  },
  {
   "cell_type": "code",
   "execution_count": null,
   "metadata": {},
   "outputs": [],
   "source": [
    "# Threshould\n",
    "# 根据阈值判断URL是否为模板\n",
    "template = set()\n",
    "\n"
   ]
  }
 ]
}