{
 "cells": [
  {
   "cell_type": "markdown",
   "metadata": {},
   "source": [
    "# 数据清理"
   ]
  },
  {
   "cell_type": "markdown",
   "metadata": {},
   "source": [
    "## URL 合并"
   ]
  },
  {
   "cell_type": "code",
   "execution_count": 28,
   "metadata": {
    "ExecuteTime": {
     "end_time": "2020-12-04T08:55:52.322706Z",
     "start_time": "2020-12-04T08:55:52.313002Z"
    },
    "execution": {
     "iopub.execute_input": "2020-12-09T03:31:30.052211Z",
     "iopub.status.busy": "2020-12-09T03:31:30.052027Z",
     "iopub.status.idle": "2020-12-09T03:31:30.071966Z",
     "shell.execute_reply": "2020-12-09T03:31:30.071362Z",
     "shell.execute_reply.started": "2020-12-09T03:31:30.052187Z"
    },
    "run_control": {
     "marked": true
    },
    "scrolled": true,
    "tags": []
   },
   "outputs": [
    {
     "name": "stdout",
     "output_type": "stream",
     "text": [
      "994\n"
     ]
    }
   ],
   "source": [
    "# 导入数据文件\n",
    "\n",
    "# here put the import lib\n",
    "import os\n",
    "\n",
    "import logging as log\n",
    "import pandas as pd\n",
    "\n",
    "from modules.logger.logger import init as logInit\n",
    "from modules.logUtils.httpEvent import HttpEvent, TABLE_LABELS\n",
    "from modules.fileUtils.fileUtils import getFilesByPath\n",
    "from modules.config.argumentParser import argumentParser\n",
    "from modules.config.configParser import getValue as getValueFromConfig\n",
    "\n",
    "# CONFIG\n",
    "\n",
    "TABLE_LABELS = [\n",
    "    \"timestamp\",\n",
    "    \"threadId\",\n",
    "    \"institutionId\",\n",
    "    \"userId\",\n",
    "    \"url\",\n",
    "    \"method\",\n",
    "    \"statusCode\",\n",
    "    \"parameterType\",\n",
    "    \"parameterName\",\n",
    "    \"parameterValue\",\n",
    "    \"header\",\n",
    "    \"name\",\n",
    "    \"ip\",\n",
    "    \"port\",\n",
    "    \"vpnip\"\n",
    "]\n",
    "# get all files.\n",
    "files = getFilesByPath(\"data/origin\")\n",
    "if not files: \n",
    "    print(\"there no any file. recorrect the input path.\")\n",
    "files = files\n",
    "\n",
    "import random\n",
    "\n",
    "# 随机抽取 RANDOM_FILES_NUMBER 数量的日志\n",
    "RANDOM_FILES_NUMBER = 0\n",
    "files = random.sample(files, RANDOM_FILES_NUMBER) if RANDOM_FILES_NUMBER != 0 else files\n",
    "\n",
    "print(len(files))\n",
    "# print(files)"
   ]
  },
  {
   "cell_type": "code",
   "execution_count": 29,
   "metadata": {
    "ExecuteTime": {
     "end_time": "2020-12-04T08:58:09.620495Z",
     "start_time": "2020-12-04T08:57:07.693926Z"
    },
    "execution": {
     "iopub.execute_input": "2020-12-09T03:31:31.998897Z",
     "iopub.status.busy": "2020-12-09T03:31:31.998715Z",
     "iopub.status.idle": "2020-12-09T03:35:18.905448Z",
     "shell.execute_reply": "2020-12-09T03:35:18.904667Z",
     "shell.execute_reply.started": "2020-12-09T03:31:31.998873Z"
    },
    "hideOutput": false,
    "hidePrompt": false,
    "tags": []
   },
   "outputs": [
    {
     "name": "stdout",
     "output_type": "stream",
     "text": [
      "2424864 15\n"
     ]
    }
   ],
   "source": [
    "# 将数据读取到 DataFrame 中\n",
    "\n",
    "data = []\n",
    "for file in files:\n",
    "    count = 0\n",
    "    with open(file, 'r', encoding='utf-8') as f:\n",
    "        # read raw log by line.\n",
    "        for line in f:\n",
    "            try:\n",
    "                he = HttpEvent(line)\n",
    "                \n",
    "                # filter user\n",
    "                if he.userId == 'null': continue\n",
    "\n",
    "                # append to Data\n",
    "                data.extend([he.getSet()])\n",
    "                count += 1\n",
    "            except Exception as e:\n",
    "                log.debug(e)\n",
    "    log.info(\"{0} write {1} lines\".format(file, count))\n",
    "print(len(data), len(data[0]))\n",
    "# convert List to DataFrame\n",
    "# print(data[0])\n",
    "df = pd.DataFrame(data = data, columns=TABLE_LABELS)\n",
    "del data"
   ]
  },
  {
   "cell_type": "code",
   "execution_count": 30,
   "metadata": {
    "ExecuteTime": {
     "end_time": "2020-12-04T09:00:28.379400Z",
     "start_time": "2020-12-04T09:00:19.373089Z"
    },
    "execution": {
     "iopub.execute_input": "2020-12-09T03:38:37.656372Z",
     "iopub.status.busy": "2020-12-09T03:38:37.656089Z",
     "iopub.status.idle": "2020-12-09T03:39:14.435658Z",
     "shell.execute_reply": "2020-12-09T03:39:14.434991Z",
     "shell.execute_reply.started": "2020-12-09T03:38:37.656344Z"
    }
   },
   "outputs": [
    {
     "name": "stdout",
     "output_type": "stream",
     "text": [
      "-rw------- 1 chase chase 1441753933 12月  9 11:39 data/tmp/full.csv\n"
     ]
    }
   ],
   "source": [
    "# 保存到 HDF\n",
    "df.to_csv(\"data/tmp/full.csv\", sep=\"^\")\n",
    "!ls -l data/tmp/full.csv"
   ]
  },
  {
   "cell_type": "code",
   "execution_count": null,
   "metadata": {},
   "outputs": [],
   "source": [
    "# 从 CSV 读取\n",
    "import pandas as pd\n",
    "df = pd.read_csv('data/tmp/full.csv', sep='^')"
   ]
  },
  {
   "cell_type": "code",
   "execution_count": null,
   "metadata": {
    "ExecuteTime": {
     "end_time": "2020-12-04T09:02:37.419109Z",
     "start_time": "2020-12-04T09:02:37.231403Z"
    }
   },
   "outputs": [],
   "source": [
    "# 查看机构号\n",
    "institutesDF = df.institutionId\n",
    "institutes = institutesDF.value_counts()\n",
    "for k, v in institutes.items():\n",
    "    print(v, k)"
   ]
  },
  {
   "cell_type": "code",
   "execution_count": null,
   "metadata": {
    "ExecuteTime": {
     "end_time": "2020-12-04T09:02:54.163271Z",
     "start_time": "2020-12-04T09:02:53.810364Z"
    },
    "scrolled": true
   },
   "outputs": [],
   "source": [
    "# 查看 userId\n",
    "userIdDF = df.userId\n",
    "users = userIdDF.value_counts()\n",
    "for k, v in users.items():\n",
    "    print(v, k)\n",
    "print(len(users))"
   ]
  },
  {
   "cell_type": "code",
   "execution_count": null,
   "metadata": {
    "ExecuteTime": {
     "end_time": "2020-12-04T09:05:36.101783Z",
     "start_time": "2020-12-04T09:05:35.689593Z"
    },
    "run_control": {
     "marked": true
    },
    "scrolled": true
   },
   "outputs": [],
   "source": [
    "# 输出所有 url 和次数\n",
    "urlDF = df.url\n",
    "urls = urlDF.value_counts()\n",
    "\n",
    "# for k, v in urls.items():\n",
    "#     print(v, k)\n",
    "\n",
    "print(len(urls))"
   ]
  },
  {
   "cell_type": "code",
   "execution_count": 34,
   "metadata": {
    "execution": {
     "iopub.execute_input": "2020-12-09T03:43:54.277841Z",
     "iopub.status.busy": "2020-12-09T03:43:54.277657Z",
     "iopub.status.idle": "2020-12-09T03:44:51.704411Z",
     "shell.execute_reply": "2020-12-09T03:44:51.703479Z",
     "shell.execute_reply.started": "2020-12-09T03:43:54.277815Z"
    }
   },
   "outputs": [],
   "source": [
    "# convert all urls\n",
    "from modules.logUtils.urlFilter import urlConvert\n",
    "df['url'] = df['url'].apply(urlConvert, args=(set(df.userId.values), set(df.institutionId.values),  set(df.name.values),))\n",
    "# save to CSV\n",
    "df.to_csv(\"data/tmp/converedtUrl_full.csv\", sep='^')"
   ]
  },
  {
   "cell_type": "code",
   "execution_count": 68,
   "metadata": {
    "execution": {
     "iopub.execute_input": "2020-12-09T09:26:44.859537Z",
     "iopub.status.busy": "2020-12-09T09:26:44.859352Z",
     "iopub.status.idle": "2020-12-09T09:26:45.231023Z",
     "shell.execute_reply": "2020-12-09T09:26:45.230499Z",
     "shell.execute_reply.started": "2020-12-09T09:26:44.859512Z"
    },
    "scrolled": true
   },
   "outputs": [
    {
     "name": "stdout",
     "output_type": "stream",
     "text": [
      "1633\n"
     ]
    }
   ],
   "source": [
    "# 输出所有 url 和次数\n",
    "urlDF = df.url\n",
    "urls = urlDF.value_counts()\n",
    "\n",
    "# for k, v in urls.items():\n",
    "#     print(v, k)\n",
    "\n",
    "print(len(urls))"
   ]
  },
  {
   "cell_type": "code",
   "execution_count": 80,
   "metadata": {
    "execution": {
     "iopub.execute_input": "2020-12-09T09:42:36.953470Z",
     "iopub.status.busy": "2020-12-09T09:42:36.953288Z",
     "iopub.status.idle": "2020-12-09T09:42:39.623374Z",
     "shell.execute_reply": "2020-12-09T09:42:39.622630Z",
     "shell.execute_reply.started": "2020-12-09T09:42:36.953446Z"
    }
   },
   "outputs": [],
   "source": [
    "# delete bug log\n",
    "df = df.drop(index=(df.loc[(df.name=='何群辉')].index))\n",
    "# delete unused log\n",
    "df = df.drop(index=(df.loc[(df.header==\"null\")].index))\n",
    "# delete unused column\n",
    "df = df.drop(['threadId', 'statusCode', 'parameterType'], axis=1)"
   ]
  },
  {
   "cell_type": "markdown",
   "metadata": {},
   "source": [
    "## session 提取"
   ]
  },
  {
   "cell_type": "code",
   "execution_count": 81,
   "metadata": {
    "execution": {
     "iopub.execute_input": "2020-12-09T09:42:48.225845Z",
     "iopub.status.busy": "2020-12-09T09:42:48.225667Z",
     "iopub.status.idle": "2020-12-09T09:42:54.220806Z",
     "shell.execute_reply": "2020-12-09T09:42:54.220239Z",
     "shell.execute_reply.started": "2020-12-09T09:42:48.225821Z"
    }
   },
   "outputs": [
    {
     "data": {
      "text/html": [
       "<div>\n",
       "<style scoped>\n",
       "    .dataframe tbody tr th:only-of-type {\n",
       "        vertical-align: middle;\n",
       "    }\n",
       "\n",
       "    .dataframe tbody tr th {\n",
       "        vertical-align: top;\n",
       "    }\n",
       "\n",
       "    .dataframe thead th {\n",
       "        text-align: right;\n",
       "    }\n",
       "</style>\n",
       "<table border=\"1\" class=\"dataframe\">\n",
       "  <thead>\n",
       "    <tr style=\"text-align: right;\">\n",
       "      <th></th>\n",
       "      <th>timestamp</th>\n",
       "      <th>institutionId</th>\n",
       "      <th>userId</th>\n",
       "      <th>url</th>\n",
       "      <th>method</th>\n",
       "      <th>parameterName</th>\n",
       "      <th>parameterValue</th>\n",
       "      <th>header</th>\n",
       "      <th>name</th>\n",
       "      <th>ip</th>\n",
       "      <th>port</th>\n",
       "      <th>vpnip</th>\n",
       "    </tr>\n",
       "  </thead>\n",
       "  <tbody>\n",
       "    <tr>\n",
       "      <th>99068</th>\n",
       "      <td>1598497193.69</td>\n",
       "      <td>310111</td>\n",
       "      <td>053982f7c98843c0b3bccb1b06723789</td>\n",
       "      <td>/portal/shortcutconfig/getConfigCompletion</td>\n",
       "      <td>GET</td>\n",
       "      <td>[]</td>\n",
       "      <td>[]</td>\n",
       "      <td>[{\"httpOnly\":false,\"maxAge\":-1,\"name\":\"JSESSIO...</td>\n",
       "      <td>秦颖</td>\n",
       "      <td>159.226.195.234</td>\n",
       "      <td>54040</td>\n",
       "      <td>0</td>\n",
       "    </tr>\n",
       "    <tr>\n",
       "      <th>99069</th>\n",
       "      <td>1598497193.691</td>\n",
       "      <td>310111</td>\n",
       "      <td>053982f7c98843c0b3bccb1b06723789</td>\n",
       "      <td>/portal/menus/mine/pc</td>\n",
       "      <td>GET</td>\n",
       "      <td>[\"image\"]</td>\n",
       "      <td>[false]</td>\n",
       "      <td>[{\"httpOnly\":false,\"maxAge\":-1,\"name\":\"JSESSIO...</td>\n",
       "      <td>秦颖</td>\n",
       "      <td>159.226.195.234</td>\n",
       "      <td>54041</td>\n",
       "      <td>0</td>\n",
       "    </tr>\n",
       "    <tr>\n",
       "      <th>99070</th>\n",
       "      <td>1598497193.744</td>\n",
       "      <td>310111</td>\n",
       "      <td>053982f7c98843c0b3bccb1b06723789</td>\n",
       "      <td>/portal/menus</td>\n",
       "      <td>POST</td>\n",
       "      <td>[\"ids\",\"image\"]</td>\n",
       "      <td>[[\"c7ee14851f954a5096c1538fc291b670\",\"0e8049b3...</td>\n",
       "      <td>[{\"httpOnly\":false,\"maxAge\":-1,\"name\":\"JSESSIO...</td>\n",
       "      <td>秦颖</td>\n",
       "      <td>159.226.195.234</td>\n",
       "      <td>54039</td>\n",
       "      <td>0</td>\n",
       "    </tr>\n",
       "    <tr>\n",
       "      <th>99071</th>\n",
       "      <td>1598497193.84</td>\n",
       "      <td>310111</td>\n",
       "      <td>053982f7c98843c0b3bccb1b06723789</td>\n",
       "      <td>/portal/shortcutconfig/getConfigCompletion</td>\n",
       "      <td>GET</td>\n",
       "      <td>[]</td>\n",
       "      <td>[]</td>\n",
       "      <td>[{\"httpOnly\":false,\"maxAge\":-1,\"name\":\"JSESSIO...</td>\n",
       "      <td>秦颖</td>\n",
       "      <td>159.226.195.234</td>\n",
       "      <td>54043</td>\n",
       "      <td>0</td>\n",
       "    </tr>\n",
       "    <tr>\n",
       "      <th>619274</th>\n",
       "      <td>1598497193.875</td>\n",
       "      <td>310111</td>\n",
       "      <td>053982f7c98843c0b3bccb1b06723789</td>\n",
       "      <td>/hr/thrpeople/</td>\n",
       "      <td>POST</td>\n",
       "      <td>[]</td>\n",
       "      <td>[]</td>\n",
       "      <td>[{\"httpOnly\":false,\"maxAge\":-1,\"name\":\"Authori...</td>\n",
       "      <td>秦颖</td>\n",
       "      <td>159.226.195.234</td>\n",
       "      <td>54043</td>\n",
       "      <td>0</td>\n",
       "    </tr>\n",
       "    <tr>\n",
       "      <th>...</th>\n",
       "      <td>...</td>\n",
       "      <td>...</td>\n",
       "      <td>...</td>\n",
       "      <td>...</td>\n",
       "      <td>...</td>\n",
       "      <td>...</td>\n",
       "      <td>...</td>\n",
       "      <td>...</td>\n",
       "      <td>...</td>\n",
       "      <td>...</td>\n",
       "      <td>...</td>\n",
       "      <td>...</td>\n",
       "    </tr>\n",
       "    <tr>\n",
       "      <th>170503</th>\n",
       "      <td>1598842670.014</td>\n",
       "      <td>310111</td>\n",
       "      <td>f7039e03ff224c9293ef82381e5849e7</td>\n",
       "      <td>/od/tOdQpjOrgids/querySignProcess</td>\n",
       "      <td>POST</td>\n",
       "      <td>[\"params\"]</td>\n",
       "      <td>[{\"ngrid\":\"f7039e03ff224c9293ef82381e5849e7\",\"...</td>\n",
       "      <td>[{\"httpOnly\":false,\"maxAge\":-1,\"name\":\"Authori...</td>\n",
       "      <td>曹天贵</td>\n",
       "      <td>159.226.99.33</td>\n",
       "      <td>52510</td>\n",
       "      <td>0</td>\n",
       "    </tr>\n",
       "    <tr>\n",
       "      <th>170504</th>\n",
       "      <td>1598842670.046</td>\n",
       "      <td>310111</td>\n",
       "      <td>f7039e03ff224c9293ef82381e5849e7</td>\n",
       "      <td>/od/tOdArchivesInOrgids/queryInProcess</td>\n",
       "      <td>POST</td>\n",
       "      <td>[\"params\"]</td>\n",
       "      <td>[{\"ngrid\":\"f7039e03ff224c9293ef82381e5849e7\",\"...</td>\n",
       "      <td>[{\"httpOnly\":false,\"maxAge\":-1,\"name\":\"Authori...</td>\n",
       "      <td>曹天贵</td>\n",
       "      <td>159.226.99.33</td>\n",
       "      <td>52512</td>\n",
       "      <td>0</td>\n",
       "    </tr>\n",
       "    <tr>\n",
       "      <th>631229</th>\n",
       "      <td>1598842670.513</td>\n",
       "      <td>310111</td>\n",
       "      <td>f7039e03ff224c9293ef82381e5849e7</td>\n",
       "      <td>/fin/arBill/getArBillAllTODOCount</td>\n",
       "      <td>GET</td>\n",
       "      <td>[]</td>\n",
       "      <td>[]</td>\n",
       "      <td>[{\"httpOnly\":false,\"maxAge\":-1,\"name\":\"Authori...</td>\n",
       "      <td>曹天贵</td>\n",
       "      <td>159.226.99.33</td>\n",
       "      <td>52504</td>\n",
       "      <td>0</td>\n",
       "    </tr>\n",
       "    <tr>\n",
       "      <th>123806</th>\n",
       "      <td>1598842670.676</td>\n",
       "      <td>310111</td>\n",
       "      <td>f7039e03ff224c9293ef82381e5849e7</td>\n",
       "      <td>/pm/commoncore/todoCommonCore/getPmTotalPendin...</td>\n",
       "      <td>GET</td>\n",
       "      <td>[\"isMobile\"]</td>\n",
       "      <td>[null]</td>\n",
       "      <td>[{\"httpOnly\":false,\"maxAge\":-1,\"name\":\"Authori...</td>\n",
       "      <td>曹天贵</td>\n",
       "      <td>159.226.99.33</td>\n",
       "      <td>52504</td>\n",
       "      <td>0</td>\n",
       "    </tr>\n",
       "    <tr>\n",
       "      <th>1334</th>\n",
       "      <td>1598842670.747</td>\n",
       "      <td>310111</td>\n",
       "      <td>f7039e03ff224c9293ef82381e5849e7</td>\n",
       "      <td>/fa/commoncore/todoCommonCore/remoteGetTotalTo...</td>\n",
       "      <td>GET</td>\n",
       "      <td>[]</td>\n",
       "      <td>[]</td>\n",
       "      <td>[{\"httpOnly\":false,\"maxAge\":-1,\"name\":\"Authori...</td>\n",
       "      <td>曹天贵</td>\n",
       "      <td>159.226.99.33</td>\n",
       "      <td>52504</td>\n",
       "      <td>0</td>\n",
       "    </tr>\n",
       "  </tbody>\n",
       "</table>\n",
       "<p>1857046 rows × 12 columns</p>\n",
       "</div>"
      ],
      "text/plain": [
       "             timestamp institutionId                            userId  \\\n",
       "99068    1598497193.69        310111  053982f7c98843c0b3bccb1b06723789   \n",
       "99069   1598497193.691        310111  053982f7c98843c0b3bccb1b06723789   \n",
       "99070   1598497193.744        310111  053982f7c98843c0b3bccb1b06723789   \n",
       "99071    1598497193.84        310111  053982f7c98843c0b3bccb1b06723789   \n",
       "619274  1598497193.875        310111  053982f7c98843c0b3bccb1b06723789   \n",
       "...                ...           ...                               ...   \n",
       "170503  1598842670.014        310111  f7039e03ff224c9293ef82381e5849e7   \n",
       "170504  1598842670.046        310111  f7039e03ff224c9293ef82381e5849e7   \n",
       "631229  1598842670.513        310111  f7039e03ff224c9293ef82381e5849e7   \n",
       "123806  1598842670.676        310111  f7039e03ff224c9293ef82381e5849e7   \n",
       "1334    1598842670.747        310111  f7039e03ff224c9293ef82381e5849e7   \n",
       "\n",
       "                                                      url method  \\\n",
       "99068          /portal/shortcutconfig/getConfigCompletion    GET   \n",
       "99069                               /portal/menus/mine/pc    GET   \n",
       "99070                                       /portal/menus   POST   \n",
       "99071          /portal/shortcutconfig/getConfigCompletion    GET   \n",
       "619274                                     /hr/thrpeople/   POST   \n",
       "...                                                   ...    ...   \n",
       "170503                  /od/tOdQpjOrgids/querySignProcess   POST   \n",
       "170504             /od/tOdArchivesInOrgids/queryInProcess   POST   \n",
       "631229                  /fin/arBill/getArBillAllTODOCount    GET   \n",
       "123806  /pm/commoncore/todoCommonCore/getPmTotalPendin...    GET   \n",
       "1334    /fa/commoncore/todoCommonCore/remoteGetTotalTo...    GET   \n",
       "\n",
       "          parameterName                                     parameterValue  \\\n",
       "99068                []                                                 []   \n",
       "99069         [\"image\"]                                            [false]   \n",
       "99070   [\"ids\",\"image\"]  [[\"c7ee14851f954a5096c1538fc291b670\",\"0e8049b3...   \n",
       "99071                []                                                 []   \n",
       "619274               []                                                 []   \n",
       "...                 ...                                                ...   \n",
       "170503       [\"params\"]  [{\"ngrid\":\"f7039e03ff224c9293ef82381e5849e7\",\"...   \n",
       "170504       [\"params\"]  [{\"ngrid\":\"f7039e03ff224c9293ef82381e5849e7\",\"...   \n",
       "631229               []                                                 []   \n",
       "123806     [\"isMobile\"]                                             [null]   \n",
       "1334                 []                                                 []   \n",
       "\n",
       "                                                   header name  \\\n",
       "99068   [{\"httpOnly\":false,\"maxAge\":-1,\"name\":\"JSESSIO...   秦颖   \n",
       "99069   [{\"httpOnly\":false,\"maxAge\":-1,\"name\":\"JSESSIO...   秦颖   \n",
       "99070   [{\"httpOnly\":false,\"maxAge\":-1,\"name\":\"JSESSIO...   秦颖   \n",
       "99071   [{\"httpOnly\":false,\"maxAge\":-1,\"name\":\"JSESSIO...   秦颖   \n",
       "619274  [{\"httpOnly\":false,\"maxAge\":-1,\"name\":\"Authori...   秦颖   \n",
       "...                                                   ...  ...   \n",
       "170503  [{\"httpOnly\":false,\"maxAge\":-1,\"name\":\"Authori...  曹天贵   \n",
       "170504  [{\"httpOnly\":false,\"maxAge\":-1,\"name\":\"Authori...  曹天贵   \n",
       "631229  [{\"httpOnly\":false,\"maxAge\":-1,\"name\":\"Authori...  曹天贵   \n",
       "123806  [{\"httpOnly\":false,\"maxAge\":-1,\"name\":\"Authori...  曹天贵   \n",
       "1334    [{\"httpOnly\":false,\"maxAge\":-1,\"name\":\"Authori...  曹天贵   \n",
       "\n",
       "                     ip   port vpnip  \n",
       "99068   159.226.195.234  54040     0  \n",
       "99069   159.226.195.234  54041     0  \n",
       "99070   159.226.195.234  54039     0  \n",
       "99071   159.226.195.234  54043     0  \n",
       "619274  159.226.195.234  54043     0  \n",
       "...                 ...    ...   ...  \n",
       "170503    159.226.99.33  52510     0  \n",
       "170504    159.226.99.33  52512     0  \n",
       "631229    159.226.99.33  52504     0  \n",
       "123806    159.226.99.33  52504     0  \n",
       "1334      159.226.99.33  52504     0  \n",
       "\n",
       "[1857046 rows x 12 columns]"
      ]
     },
     "execution_count": 81,
     "metadata": {},
     "output_type": "execute_result"
    }
   ],
   "source": [
    "# Sort by userId primary key, with time as the secondary key\n",
    "df.sort_values(by=['userId', 'timestamp'])"
   ]
  },
  {
   "cell_type": "code",
   "execution_count": 85,
   "metadata": {
    "execution": {
     "iopub.execute_input": "2020-12-09T09:43:53.688249Z",
     "iopub.status.busy": "2020-12-09T09:43:53.688067Z",
     "iopub.status.idle": "2020-12-09T09:43:54.022910Z",
     "shell.execute_reply": "2020-12-09T09:43:54.022415Z",
     "shell.execute_reply.started": "2020-12-09T09:43:53.688224Z"
    }
   },
   "outputs": [
    {
     "data": {
      "text/plain": [
       "杨帆     92864\n",
       "王芳     89032\n",
       "高辉     44234\n",
       "简乐     26318\n",
       "文印室    24281\n",
       "       ...  \n",
       "胡泊        17\n",
       "陈枢舒       16\n",
       "秦甜        15\n",
       "陈灿        12\n",
       "贾萌         9\n",
       "Name: name, Length: 847, dtype: int64"
      ]
     },
     "execution_count": 85,
     "metadata": {},
     "output_type": "execute_result"
    }
   ],
   "source": []
  }
 ],
 "metadata": {
  "kernelspec": {
   "display_name": "persona",
   "language": "python",
   "name": "persona"
  },
  "language_info": {
   "codemirror_mode": {
    "name": "ipython",
    "version": 3
   },
   "file_extension": ".py",
   "mimetype": "text/x-python",
   "name": "python",
   "nbconvert_exporter": "python",
   "pygments_lexer": "ipython3",
   "version": "3.7.8"
  },
  "toc": {
   "base_numbering": 1,
   "nav_menu": {},
   "number_sections": true,
   "sideBar": true,
   "skip_h1_title": true,
   "title_cell": "Table of Contents",
   "title_sidebar": "Contents",
   "toc_cell": false,
   "toc_position": {
    "height": "calc(100% - 180px)",
    "left": "10px",
    "top": "150px",
    "width": "454px"
   },
   "toc_section_display": true,
   "toc_window_display": false
  },
  "varInspector": {
   "cols": {
    "lenName": 16,
    "lenType": 16,
    "lenVar": 40
   },
   "kernels_config": {
    "python": {
     "delete_cmd_postfix": "",
     "delete_cmd_prefix": "del ",
     "library": "var_list.py",
     "varRefreshCmd": "print(var_dic_list())"
    },
    "r": {
     "delete_cmd_postfix": ") ",
     "delete_cmd_prefix": "rm(",
     "library": "var_list.r",
     "varRefreshCmd": "cat(var_dic_list()) "
    }
   },
   "position": {
    "height": "741px",
    "left": "1858px",
    "right": "20px",
    "top": "120px",
    "width": "682px"
   },
   "types_to_exclude": [
    "module",
    "function",
    "builtin_function_or_method",
    "instance",
    "_Feature"
   ],
   "window_display": false
  }
 },
 "nbformat": 4,
 "nbformat_minor": 4
}
