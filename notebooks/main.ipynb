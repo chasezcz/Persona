{
 "metadata": {
  "language_info": {
   "codemirror_mode": {
    "name": "ipython",
    "version": 3
   },
   "file_extension": ".py",
   "mimetype": "text/x-python",
   "name": "python",
   "nbconvert_exporter": "python",
   "pygments_lexer": "ipython3",
   "version": "3.7.9-final"
  },
  "orig_nbformat": 2,
  "kernelspec": {
   "name": "python3",
   "display_name": "Python 3.7.9 64-bit ('tf2': conda)",
   "metadata": {
    "interpreter": {
     "hash": "a96d4cae45ce1b79d9e62097f5476ca4d087c41340fa86dfd5bdfdc99ea03220"
    }
   }
  }
 },
 "nbformat": 4,
 "nbformat_minor": 2,
 "cells": [
  {
   "cell_type": "code",
   "execution_count": 4,
   "metadata": {},
   "outputs": [
    {
     "output_type": "stream",
     "name": "stdout",
     "text": [
      "fewf\n",
      "# packages in environment at /home/chase/.local/opt/conda:\n",
      "#\n",
      "# Name                    Version                   Build  Channel\n",
      "_libgcc_mutex             0.1                        main    defaults\n",
      "astroid                   2.4.2                    py38_0    defaults\n",
      "backcall                  0.2.0                      py_0    defaults\n",
      "brotlipy                  0.7.0           py38h27cfd23_1003    defaults\n",
      "ca-certificates           2020.10.14                    0    defaults\n",
      "certifi                   2020.11.8        py38h06a4308_0    defaults\n",
      "cffi                      1.14.3           py38h261ae71_2    defaults\n",
      "chardet                   3.0.4           py38h06a4308_1003    defaults\n",
      "conda                     4.9.2            py38h06a4308_0    defaults\n",
      "conda-package-handling    1.7.2            py38h03888b9_0    defaults\n",
      "cryptography              3.2.1            py38h3c74f83_1    defaults\n",
      "decorator                 4.4.2                      py_0    defaults\n",
      "genpac                    2.1.0                    pypi_0    pypi\n",
      "idna                      2.10                       py_0    defaults\n",
      "ipykernel                 5.3.4            py38h5ca1d4c_0    defaults\n",
      "ipython                   7.19.0           py38hb070fc8_0    defaults\n",
      "ipython_genutils          0.2.0                    py38_0    defaults\n",
      "isort                     5.6.4                      py_0    defaults\n",
      "jedi                      0.17.2                   py38_0    defaults\n",
      "jupyter_client            6.1.7                      py_0    defaults\n",
      "jupyter_core              4.7.0            py38h06a4308_0    defaults\n",
      "lazy-object-proxy         1.4.3            py38h7b6447c_0    defaults\n",
      "ld_impl_linux-64          2.33.1               h53a641e_7    defaults\n",
      "libedit                   3.1.20191231         h14c3975_1    defaults\n",
      "libffi                    3.3                  he6710b0_2    defaults\n",
      "libgcc-ng                 9.1.0                hdf63c60_0    defaults\n",
      "libsodium                 1.0.18               h7b6447c_0    defaults\n",
      "libstdcxx-ng              9.1.0                hdf63c60_0    defaults\n",
      "mccabe                    0.6.1                    py38_1    defaults\n",
      "ncurses                   6.2                  he6710b0_1    defaults\n",
      "openssl                   1.1.1h               h7b6447c_0    defaults\n",
      "parso                     0.7.0                      py_0    defaults\n",
      "pexpect                   4.8.0              pyhd3eb1b0_3    defaults\n",
      "pickleshare               0.7.5                 py38_1000    defaults\n",
      "pip                       20.2.4           py38h06a4308_0    defaults\n",
      "prompt-toolkit            3.0.8                      py_0    defaults\n",
      "ptyprocess                0.6.0              pyhd3eb1b0_2    defaults\n",
      "pycosat                   0.6.3            py38h7b6447c_1    defaults\n",
      "pycparser                 2.20                       py_2    defaults\n",
      "pygments                  2.7.2              pyhd3eb1b0_0    defaults\n",
      "pylint                    2.6.0                    py38_0    defaults\n",
      "pyopenssl                 19.1.0             pyhd3eb1b0_1    defaults\n",
      "pysocks                   1.7.1            py38h06a4308_0    defaults\n",
      "python                    3.8.3                hcff3b4d_0    defaults\n",
      "python-dateutil           2.8.1                      py_0    defaults\n",
      "pyzmq                     19.0.2           py38he6710b0_1    defaults\n",
      "readline                  8.0                  h7b6447c_0    defaults\n",
      "requests                  2.24.0                     py_0    defaults\n",
      "ruamel_yaml               0.15.87          py38h7b6447c_1    defaults\n",
      "setuptools                50.3.1           py38h06a4308_1    defaults\n",
      "six                       1.15.0           py38h06a4308_0    defaults\n",
      "sqlite                    3.33.0               h62c20be_0    defaults\n",
      "tk                        8.6.10               hbc83047_0    defaults\n",
      "toml                      0.10.1                     py_0    defaults\n",
      "tornado                   6.0.4            py38h7b6447c_1    defaults\n",
      "tqdm                      4.51.0             pyhd3eb1b0_0    defaults\n",
      "traitlets                 5.0.5                      py_0    defaults\n",
      "urllib3                   1.25.11                    py_0    defaults\n",
      "wcwidth                   0.2.5                      py_0    defaults\n",
      "wheel                     0.35.1             pyhd3eb1b0_0    defaults\n",
      "wrapt                     1.11.2           py38h7b6447c_0    defaults\n",
      "xz                        5.2.5                h7b6447c_0    defaults\n",
      "yaml                      0.2.5                h7b6447c_0    defaults\n",
      "zeromq                    4.3.3                he6710b0_3    defaults\n",
      "zlib                      1.2.11               h7b6447c_3    defaults\n"
     ]
    },
    {
     "output_type": "error",
     "ename": "ModuleNotFoundError",
     "evalue": "No module named 'tensorflow'",
     "traceback": [
      "\u001b[0;31m---------------------------------------------------------------------------\u001b[0m",
      "\u001b[0;31mModuleNotFoundError\u001b[0m                       Traceback (most recent call last)",
      "\u001b[0;32m<ipython-input-4-d668869f2f58>\u001b[0m in \u001b[0;36m<module>\u001b[0;34m\u001b[0m\n\u001b[1;32m      1\u001b[0m \u001b[0mprint\u001b[0m\u001b[0;34m(\u001b[0m\u001b[0;34m\"fewf\"\u001b[0m\u001b[0;34m)\u001b[0m\u001b[0;34m\u001b[0m\u001b[0;34m\u001b[0m\u001b[0m\n\u001b[1;32m      2\u001b[0m \u001b[0mget_ipython\u001b[0m\u001b[0;34m(\u001b[0m\u001b[0;34m)\u001b[0m\u001b[0;34m.\u001b[0m\u001b[0msystem\u001b[0m\u001b[0;34m(\u001b[0m\u001b[0;34m'conda list'\u001b[0m\u001b[0;34m)\u001b[0m\u001b[0;34m\u001b[0m\u001b[0;34m\u001b[0m\u001b[0m\n\u001b[0;32m----> 3\u001b[0;31m \u001b[0;32mimport\u001b[0m \u001b[0mtensorflow\u001b[0m \u001b[0;32mas\u001b[0m \u001b[0mtf\u001b[0m\u001b[0;34m\u001b[0m\u001b[0;34m\u001b[0m\u001b[0m\n\u001b[0m\u001b[1;32m      4\u001b[0m \u001b[0mprint\u001b[0m\u001b[0;34m(\u001b[0m\u001b[0mtf\u001b[0m\u001b[0;34m.\u001b[0m\u001b[0m__version__\u001b[0m\u001b[0;34m)\u001b[0m\u001b[0;34m\u001b[0m\u001b[0;34m\u001b[0m\u001b[0m\n",
      "\u001b[0;31mModuleNotFoundError\u001b[0m: No module named 'tensorflow'"
     ]
    }
   ],
   "source": []
  }
 ]
}