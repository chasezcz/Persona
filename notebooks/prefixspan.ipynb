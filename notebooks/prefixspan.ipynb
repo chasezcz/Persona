{
 "cells": [
  {
   "cell_type": "markdown",
   "metadata": {},
   "source": [
    "# BY SPARK "
   ]
  },
  {
   "cell_type": "code",
   "execution_count": 3,
   "metadata": {
    "ExecuteTime": {
     "end_time": "2020-12-28T10:06:43.523550Z",
     "start_time": "2020-12-28T10:06:40.033094Z"
    },
    "execution": {
     "iopub.execute_input": "2020-12-28T09:52:00.732027Z",
     "iopub.status.busy": "2020-12-28T09:52:00.731846Z",
     "iopub.status.idle": "2020-12-28T09:52:04.220613Z",
     "shell.execute_reply": "2020-12-28T09:52:04.219540Z",
     "shell.execute_reply.started": "2020-12-28T09:52:00.732001Z"
    }
   },
   "outputs": [
    {
     "data": {
      "text/html": [
       "\n",
       "        <div>\n",
       "            <p><b>SparkContext</b></p>\n",
       "\n",
       "            <p><a href=\"http://172.17.0.225:4040\">Spark UI</a></p>\n",
       "\n",
       "            <dl>\n",
       "              <dt>Version</dt>\n",
       "                <dd><code>v3.0.1</code></dd>\n",
       "              <dt>Master</dt>\n",
       "                <dd><code>local</code></dd>\n",
       "              <dt>AppName</dt>\n",
       "                <dd><code>testing</code></dd>\n",
       "            </dl>\n",
       "        </div>\n",
       "        "
      ],
      "text/plain": [
       "<SparkContext master=local appName=testing>"
      ]
     },
     "execution_count": 3,
     "metadata": {},
     "output_type": "execute_result"
    }
   ],
   "source": [
    "from pyspark.ml.fpm import PrefixSpan\n",
    "from pyspark.sql import Row\n",
    "from pyspark import SparkContext\n",
    "from pyspark import SparkConf\n",
    "import os \n",
    "\n",
    "os.environ['PYSPARK_PYTHON'] = \"/opt/conda/envs/persona/bin/python\"\n",
    "os.environ['PYSPARK_DRIVER_PYTHON'] = \"\"\n",
    "os.environ['SPARK_WORKER_CORES'] = '60'\n",
    "sc = SparkContext(\"local\",\"testing\")"
   ]
  },
  {
   "cell_type": "code",
   "execution_count": null,
   "metadata": {},
   "outputs": [],
   "source": []
  },
  {
   "cell_type": "code",
   "execution_count": 5,
   "metadata": {
    "ExecuteTime": {
     "end_time": "2020-12-28T10:07:15.969038Z",
     "start_time": "2020-12-28T10:07:03.518606Z"
    },
    "execution": {
     "iopub.execute_input": "2020-12-28T09:53:31.899723Z",
     "iopub.status.busy": "2020-12-28T09:53:31.899522Z",
     "iopub.status.idle": "2020-12-28T09:53:34.493651Z",
     "shell.execute_reply": "2020-12-28T09:53:34.493000Z",
     "shell.execute_reply.started": "2020-12-28T09:53:31.899697Z"
    }
   },
   "outputs": [],
   "source": [
    "from  pyspark.mllib.fpm import PrefixSpan\n",
    "\n",
    "rdd = sc.parallelize(dataset, 60)\n",
    "\n",
    "model = PrefixSpan.train(rdd, 0.5,4)"
   ]
  },
  {
   "cell_type": "code",
   "execution_count": null,
   "metadata": {
    "ExecuteTime": {
     "start_time": "2020-12-28T10:07:19.258Z"
    },
    "execution": {
     "iopub.execute_input": "2020-12-28T09:53:50.480907Z",
     "iopub.status.busy": "2020-12-28T09:53:50.480694Z",
     "iopub.status.idle": "2020-12-28T09:53:50.515006Z",
     "shell.execute_reply": "2020-12-28T09:53:50.514277Z",
     "shell.execute_reply.started": "2020-12-28T09:53:50.480880Z"
    }
   },
   "outputs": [],
   "source": [
    "sorted(model.freqSequences().collect())"
   ]
  },
  {
   "cell_type": "code",
   "execution_count": null,
   "metadata": {
    "execution": {
     "iopub.execute_input": "2020-12-28T09:16:25.632256Z",
     "iopub.status.busy": "2020-12-28T09:16:25.631997Z",
     "iopub.status.idle": "2020-12-28T09:16:25.637300Z",
     "shell.execute_reply": "2020-12-28T09:16:25.636721Z",
     "shell.execute_reply.started": "2020-12-28T09:16:25.632229Z"
    }
   },
   "outputs": [],
   "source": [
    "data"
   ]
  },
  {
   "cell_type": "code",
   "execution_count": null,
   "metadata": {
    "execution": {
     "iopub.execute_input": "2020-12-28T09:16:42.203034Z",
     "iopub.status.busy": "2020-12-28T09:16:42.202831Z",
     "iopub.status.idle": "2020-12-28T09:16:42.401900Z",
     "shell.execute_reply": "2020-12-28T09:16:42.401329Z",
     "shell.execute_reply.started": "2020-12-28T09:16:42.203003Z"
    }
   },
   "outputs": [],
   "source": [
    "dataset = trainData.tolist()\n"
   ]
  },
  {
   "cell_type": "markdown",
   "metadata": {},
   "source": [
    "# BY PYPI"
   ]
  },
  {
   "cell_type": "code",
   "execution_count": 3,
   "metadata": {},
   "outputs": [],
   "source": [
    "from prefixspan import PrefixSpan\n",
    "\n",
    "readData = []\n",
    "with open(\"data/dataset/pathFull.txt\", \"r\", encoding=\"utf-8\") as f:\n",
    "    for line in f:\n",
    "        # print(line)\n",
    "        nums = []\n",
    "        for num in line.split('-'):\n",
    "            if num:\n",
    "                nums.append(int(num))\n",
    "        if nums:\n",
    "            readData.append(nums)\n",
    "ps = PrefixSpan(readData)\n"
   ]
  },
  {
   "cell_type": "code",
   "execution_count": null,
   "metadata": {},
   "outputs": [],
   "source": [
    "res = ps.frequent(10)\n",
    "res"
   ]
  },
  {
   "cell_type": "code",
   "execution_count": 13,
   "metadata": {},
   "outputs": [],
   "source": [
    "readData = []\n",
    "with open(\"data/dataset/pathFull.txt\", \"r\", encoding=\"utf-8\") as f:\n",
    "    for line in f:\n",
    "        # print(line)\n",
    "        nums = []\n",
    "        for num in line.split('-'):\n",
    "            if num:\n",
    "                nums.append(int(num))\n",
    "        if nums:\n",
    "            readData.append(nums)\n",
    "\n",
    "with open(\"data/dataset/trainForSPMF.txt\", \"w\", encoding=\"utf-8\") as f:\n",
    "    for line in readData:\n",
    "        newLine = []\n",
    "        for x in line:\n",
    "            newLine.append(str(x) + \" \")\n",
    "            newLine.append(\"-1 \")\n",
    "        newLine.append(\"-2\")\n",
    "        f.writelines(newLine)\n",
    "        f.write(\"\\n\")\n"
   ]
  },
  {
   "cell_type": "markdown",
   "metadata": {},
   "source": [
    "# BY SPMF"
   ]
  },
  {
   "cell_type": "code",
   "execution_count": 7,
   "metadata": {},
   "outputs": [
    {
     "name": "stdout",
     "output_type": "stream",
     "text": [
      ">/D:/Workspace/Persona/modules/api/spmf.jar\n",
      "=============  PREFIXSPAN 0.99-2016 - STATISTICS =============\n",
      " Total time ~ 1249 ms\n",
      " Frequent sequences count : 608\n",
      " Max memory (mb) : 529.9717025756836\n",
      " minsup = 5997 sequences.\n",
      " Pattern count : 608\n",
      "===================================================\n",
      "\n",
      "\n",
      "support extraction failed\n",
      "                                                pattern    sup\n",
      "0                                                  [78]  11612\n",
      "1                                             [78, 496]   8347\n",
      "2                                        [78, 496, 577]   7087\n",
      "3                                   [78, 496, 577, 577]   6130\n",
      "4                              [78, 496, 577, 577, 100]   6010\n",
      "...                                                 ...    ...\n",
      "1968       [78, 577, 577, 719, 100, 646, 380, 646, 646]   2381\n",
      "1969  [78, 577, 577, 719, 100, 646, 380, 646, 646, 646]   2380\n",
      "1970  [78, 577, 577, 719, 100, 646, 380, 646, 646, 6...   2380\n",
      "1971  [78, 577, 577, 719, 100, 646, 380, 646, 646, 6...   2380\n",
      "1972                                          [78, 577]     -1\n",
      "\n",
      "[1973 rows x 2 columns]\n"
     ]
    },
    {
     "data": {
      "text/plain": [
       "<spmf.Spmf at 0x1b9d81fa888>"
      ]
     },
     "execution_count": 7,
     "metadata": {},
     "output_type": "execute_result"
    }
   ],
   "source": [
    "from spmf import Spmf\n",
    "\n",
    "spmf = Spmf(\"PrefixSpan\", input_filename=\"data/dataset/trainForSPMF.txt\", output_filename=\"data/tmp/SPMFoutput.txt\", arguments=[0.4, 10], spmf_bin_location_dir=\"modules/api/\")\n",
    "spmf.run()\n",
    "print(spmf.to_pandas_dataframe(pickle=True))\n",
    "# spmf.to_csv(\"output.csv\")"
   ]
  },
  {
   "cell_type": "code",
   "execution_count": 14,
   "metadata": {},
   "outputs": [
    {
     "name": "stdout",
     "output_type": "stream",
     "text": [
      "support extraction failed\n"
     ]
    }
   ],
   "source": [
    "outputDF = spmf.to_pandas_dataframe()"
   ]
  },
  {
   "cell_type": "code",
   "execution_count": 19,
   "metadata": {},
   "outputs": [],
   "source": [
    "outputDF = outputDF.drop([1972])"
   ]
  },
  {
   "cell_type": "code",
   "execution_count": 22,
   "metadata": {},
   "outputs": [],
   "source": [
    "outputDF.to_csv(\"data/dataset/frequenctPattern.csv\", sep=\"^\", encoding=\"utf-8\", index=False)"
   ]
  }
 ],
 "metadata": {
  "kernelspec": {
   "display_name": "Python 3",
   "language": "python",
   "name": "python3"
  },
  "language_info": {
   "codemirror_mode": {
    "name": "ipython",
    "version": 3
   },
   "file_extension": ".py",
   "mimetype": "text/x-python",
   "name": "python",
   "nbconvert_exporter": "python",
   "pygments_lexer": "ipython3",
   "version": "3.8.5"
  },
  "toc": {
   "base_numbering": 1,
   "nav_menu": {},
   "number_sections": true,
   "sideBar": true,
   "skip_h1_title": false,
   "title_cell": "Table of Contents",
   "title_sidebar": "Contents",
   "toc_cell": false,
   "toc_position": {},
   "toc_section_display": true,
   "toc_window_display": false
  },
  "varInspector": {
   "cols": {
    "lenName": 16,
    "lenType": 16,
    "lenVar": 40
   },
   "kernels_config": {
    "python": {
     "delete_cmd_postfix": "",
     "delete_cmd_prefix": "del ",
     "library": "var_list.py",
     "varRefreshCmd": "print(var_dic_list())"
    },
    "r": {
     "delete_cmd_postfix": ") ",
     "delete_cmd_prefix": "rm(",
     "library": "var_list.r",
     "varRefreshCmd": "cat(var_dic_list()) "
    }
   },
   "types_to_exclude": [
    "module",
    "function",
    "builtin_function_or_method",
    "instance",
    "_Feature"
   ],
   "window_display": false
  }
 },
 "nbformat": 4,
 "nbformat_minor": 4
}
