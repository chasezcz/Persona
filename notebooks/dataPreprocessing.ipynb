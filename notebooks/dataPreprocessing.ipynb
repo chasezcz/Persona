{
 "metadata": {
  "language_info": {
   "codemirror_mode": {
    "name": "ipython",
    "version": 3
   },
   "file_extension": ".py",
   "mimetype": "text/x-python",
   "name": "python",
   "nbconvert_exporter": "python",
   "pygments_lexer": "ipython3",
   "version": "3.7.0-final"
  },
  "orig_nbformat": 2,
  "kernelspec": {
   "name": "python3",
   "display_name": "Python 3.7.0 64-bit",
   "metadata": {
    "interpreter": {
     "hash": "02bb51f3aa52a4a8c1934659a86294f1eb53cb0722b0a287cff57303a98696cc"
    }
   }
  }
 },
 "nbformat": 4,
 "nbformat_minor": 2,
 "cells": [
  {
   "source": [
    "# Add sys path "
   ],
   "cell_type": "markdown",
   "metadata": {}
  },
  {
   "cell_type": "code",
   "execution_count": 1,
   "metadata": {},
   "outputs": [
    {
     "output_type": "error",
     "ename": "KeyboardInterrupt",
     "evalue": "",
     "traceback": [
      "\u001b[0;31m---------------------------------------------------------------------------\u001b[0m",
      "\u001b[0;31mKeyboardInterrupt\u001b[0m                         Traceback (most recent call last)",
      "\u001b[0;32m<ipython-input-1-dae71290e891>\u001b[0m in \u001b[0;36m<module>\u001b[0;34m\u001b[0m\n\u001b[1;32m      4\u001b[0m \u001b[0;32mwith\u001b[0m \u001b[0mopen\u001b[0m\u001b[0;34m(\u001b[0m\u001b[0mdataPath\u001b[0m\u001b[0;34m,\u001b[0m \u001b[0;34m\"r\"\u001b[0m\u001b[0;34m,\u001b[0m \u001b[0mencoding\u001b[0m\u001b[0;34m=\u001b[0m\u001b[0;34m\"utf-8\"\u001b[0m\u001b[0;34m)\u001b[0m \u001b[0;32mas\u001b[0m \u001b[0mf\u001b[0m\u001b[0;34m:\u001b[0m\u001b[0;34m\u001b[0m\u001b[0m\n\u001b[1;32m      5\u001b[0m     \u001b[0;32mfor\u001b[0m \u001b[0mline\u001b[0m \u001b[0;32min\u001b[0m \u001b[0mf\u001b[0m\u001b[0;34m:\u001b[0m\u001b[0;34m\u001b[0m\u001b[0m\n\u001b[0;32m----> 6\u001b[0;31m         \u001b[0ml\u001b[0m \u001b[0;34m=\u001b[0m \u001b[0mlen\u001b[0m\u001b[0;34m(\u001b[0m\u001b[0mline\u001b[0m\u001b[0;34m.\u001b[0m\u001b[0msplit\u001b[0m\u001b[0;34m(\u001b[0m\u001b[0;34m\",,,\"\u001b[0m\u001b[0;34m)\u001b[0m\u001b[0;34m)\u001b[0m\u001b[0;34m\u001b[0m\u001b[0m\n\u001b[0m\u001b[1;32m      7\u001b[0m         \u001b[0mdic\u001b[0m\u001b[0;34m[\u001b[0m\u001b[0ml\u001b[0m\u001b[0;34m]\u001b[0m \u001b[0;34m=\u001b[0m \u001b[0;36m1\u001b[0m \u001b[0;32mif\u001b[0m \u001b[0ml\u001b[0m \u001b[0;32mnot\u001b[0m \u001b[0;32min\u001b[0m \u001b[0mdic\u001b[0m \u001b[0;32melse\u001b[0m \u001b[0mdic\u001b[0m\u001b[0;34m[\u001b[0m\u001b[0ml\u001b[0m\u001b[0;34m]\u001b[0m \u001b[0;34m+\u001b[0m \u001b[0;36m1\u001b[0m\u001b[0;34m\u001b[0m\u001b[0m\n\u001b[1;32m      8\u001b[0m         \u001b[0;32mif\u001b[0m \u001b[0ml\u001b[0m \u001b[0;34m==\u001b[0m \u001b[0;36m29\u001b[0m\u001b[0;34m:\u001b[0m\u001b[0;34m\u001b[0m\u001b[0m\n",
      "\u001b[0;31mKeyboardInterrupt\u001b[0m: "
     ]
    }
   ],
   "source": [
    "# read tmp csv\n",
    "dataPath = \"../data/tmp/tmp.csv\"\n",
    "dic = {}\n",
    "with open(dataPath, \"r\", encoding=\"utf-8\") as f:\n",
    "    for line in f:\n",
    "        l = len(line.split(\",,,\"))\n",
    "        dic[l] = 1 if l not in dic else dic[l] + 1 \n",
    "        if l == 29:\n",
    "            print(line)\n",
    "print(dic)"
   ]
  },
  {
   "cell_type": "code",
   "execution_count": 8,
   "metadata": {},
   "outputs": [
    {
     "output_type": "stream",
     "name": "stdout",
     "text": [
      "<bound method NDFrame.head of             timestamp  threadId  institutionId  ...               ip port vpnip\n0        1.597277e+09       337       310111.0  ...    159.226.99.40    0     0\n1        1.597277e+09       435       310111.0  ...    159.226.99.35    0     0\n2        1.597277e+09       861       310111.0  ...    159.226.99.40    0     0\n3        1.597277e+09       368       310111.0  ...    159.226.99.40    0     0\n4        1.597278e+09       436       310111.0  ...    159.226.99.36    0     0\n...               ...       ...            ...  ...              ...  ...   ...\n3069242  1.596638e+09       921            NaN  ...        127.0.0.1    0     0\n3069243  1.596638e+09       918       241711.0  ...   219.142.146.23    0     0\n3069244  1.596638e+09      1008       241711.0  ...   219.142.146.23    0     0\n3069245  1.596642e+09       464       241711.0  ...  120.244.178.207    0     0\n3069246  1.596642e+09       920       241711.0  ...  120.244.178.207    0     0\n\n[3069247 rows x 14 columns]>\n"
     ]
    }
   ],
   "source": [
    "# read csv by pandas \n",
    "\n",
    "dataPath = \"../data/tmp/tmp.csv\"\n",
    "import pandas as pd \n",
    "df = pd.read_csv(dataPath, parse_dates=[1],sep=\",,,\")\n",
    "print(df.head)"
   ]
  },
  {
   "cell_type": "code",
   "execution_count": 6,
   "metadata": {},
   "outputs": [
    {
     "output_type": "stream",
     "name": "stdout",
     "text": [
      "<bound method NDFrame.head of   url data method\n0  11   12     13\n1  21   22     23\n2  31   32     33>\n"
     ]
    }
   ],
   "source": [
    "print(df.head)"
   ]
  },
  {
   "cell_type": "code",
   "execution_count": 14,
   "metadata": {},
   "outputs": [],
   "source": [
    "urls = dict(df['url'].value_counts())"
   ]
  },
  {
   "cell_type": "code",
   "execution_count": 3,
   "metadata": {},
   "outputs": [],
   "source": [
    "import sys\n",
    "sys.path.append(\"..\")\n",
    "\n"
   ]
  },
  {
   "cell_type": "code",
   "execution_count": 10,
   "metadata": {},
   "outputs": [
    {
     "output_type": "stream",
     "name": "stdout",
     "text": [
      "   timestamp  threadId  institutionId  userId  ...  header  ip  port  vpnip\n0          1         2              3       4  ...       1   2     3      4\n1          1         2              3       4  ...       1   2     3      3\n\n[2 rows x 14 columns]\n"
     ]
    }
   ],
   "source": [
    "labels = [\n",
    "    \"timestamp\",\n",
    "    \"threadId\",\n",
    "    \"institutionId\",\n",
    "    \"userId\",\n",
    "    \"url\",\n",
    "    \"method\",\n",
    "    \"statusCode\",\n",
    "    \"parameterType\",\n",
    "    \"parameterName\",\n",
    "    \"parameterValue\",\n",
    "    \"header\",\n",
    "    \"ip\",\n",
    "    \"port\",\n",
    "    \"vpnip\"\n",
    "]\n",
    "import pandas as pd\n",
    "from pandas import DataFrame\n",
    "\n",
    "data = [\n",
    "    [1,2,3,4,5,6,7,8,9,0,1,2,3,4],\n",
    "    [1,2,3,4,5,6,7,8,9,0,1,2,3,3]\n",
    "]\n",
    "df = DataFrame(data=data, columns=labels)\n",
    "print(df)"
   ]
  }
 ]
}