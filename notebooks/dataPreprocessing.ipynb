{
 "metadata": {
  "language_info": {
   "codemirror_mode": {
    "name": "ipython",
    "version": 3
   },
   "file_extension": ".py",
   "mimetype": "text/x-python",
   "name": "python",
   "nbconvert_exporter": "python",
   "pygments_lexer": "ipython3",
   "version": "3.7.0-final"
  },
  "orig_nbformat": 2,
  "kernelspec": {
   "name": "python3",
   "display_name": "Python 3.7.0 64-bit ('persona': conda)",
   "metadata": {
    "interpreter": {
     "hash": "02bb51f3aa52a4a8c1934659a86294f1eb53cb0722b0a287cff57303a98696cc"
    }
   }
  }
 },
 "nbformat": 4,
 "nbformat_minor": 2,
 "cells": [
  {
   "source": [
    "# Add sys path "
   ],
   "cell_type": "markdown",
   "metadata": {}
  },
  {
   "cell_type": "code",
   "execution_count": 1,
   "metadata": {},
   "outputs": [
    {
     "output_type": "error",
     "ename": "KeyboardInterrupt",
     "evalue": "",
     "traceback": [
      "\u001b[0;31m---------------------------------------------------------------------------\u001b[0m",
      "\u001b[0;31mKeyboardInterrupt\u001b[0m                         Traceback (most recent call last)",
      "\u001b[0;32m<ipython-input-1-dae71290e891>\u001b[0m in \u001b[0;36m<module>\u001b[0;34m\u001b[0m\n\u001b[1;32m      4\u001b[0m \u001b[0;32mwith\u001b[0m \u001b[0mopen\u001b[0m\u001b[0;34m(\u001b[0m\u001b[0mdataPath\u001b[0m\u001b[0;34m,\u001b[0m \u001b[0;34m\"r\"\u001b[0m\u001b[0;34m,\u001b[0m \u001b[0mencoding\u001b[0m\u001b[0;34m=\u001b[0m\u001b[0;34m\"utf-8\"\u001b[0m\u001b[0;34m)\u001b[0m \u001b[0;32mas\u001b[0m \u001b[0mf\u001b[0m\u001b[0;34m:\u001b[0m\u001b[0;34m\u001b[0m\u001b[0m\n\u001b[1;32m      5\u001b[0m     \u001b[0;32mfor\u001b[0m \u001b[0mline\u001b[0m \u001b[0;32min\u001b[0m \u001b[0mf\u001b[0m\u001b[0;34m:\u001b[0m\u001b[0;34m\u001b[0m\u001b[0m\n\u001b[0;32m----> 6\u001b[0;31m         \u001b[0ml\u001b[0m \u001b[0;34m=\u001b[0m \u001b[0mlen\u001b[0m\u001b[0;34m(\u001b[0m\u001b[0mline\u001b[0m\u001b[0;34m.\u001b[0m\u001b[0msplit\u001b[0m\u001b[0;34m(\u001b[0m\u001b[0;34m\",,,\"\u001b[0m\u001b[0;34m)\u001b[0m\u001b[0;34m)\u001b[0m\u001b[0;34m\u001b[0m\u001b[0m\n\u001b[0m\u001b[1;32m      7\u001b[0m         \u001b[0mdic\u001b[0m\u001b[0;34m[\u001b[0m\u001b[0ml\u001b[0m\u001b[0;34m]\u001b[0m \u001b[0;34m=\u001b[0m \u001b[0;36m1\u001b[0m \u001b[0;32mif\u001b[0m \u001b[0ml\u001b[0m \u001b[0;32mnot\u001b[0m \u001b[0;32min\u001b[0m \u001b[0mdic\u001b[0m \u001b[0;32melse\u001b[0m \u001b[0mdic\u001b[0m\u001b[0;34m[\u001b[0m\u001b[0ml\u001b[0m\u001b[0;34m]\u001b[0m \u001b[0;34m+\u001b[0m \u001b[0;36m1\u001b[0m\u001b[0;34m\u001b[0m\u001b[0m\n\u001b[1;32m      8\u001b[0m         \u001b[0;32mif\u001b[0m \u001b[0ml\u001b[0m \u001b[0;34m==\u001b[0m \u001b[0;36m29\u001b[0m\u001b[0;34m:\u001b[0m\u001b[0;34m\u001b[0m\u001b[0m\n",
      "\u001b[0;31mKeyboardInterrupt\u001b[0m: "
     ]
    }
   ],
   "source": [
    "# read tmp csv\n",
    "dataPath = \"../data/tmp/tmp.csv\"\n",
    "dic = {}\n",
    "with open(dataPath, \"r\", encoding=\"utf-8\") as f:\n",
    "    for line in f:\n",
    "        l = len(line.split(\",,,\"))\n",
    "        dic[l] = 1 if l not in dic else dic[l] + 1 \n",
    "        if l == 29:\n",
    "            print(line)\n",
    "print(dic)"
   ]
  },
  {
   "cell_type": "code",
   "execution_count": 3,
   "metadata": {},
   "outputs": [
    {
     "output_type": "stream",
     "name": "stdout",
     "text": [
      "0          [{\"httpOnly\":false,\"maxAge\":-1,\"name\":\"Authori...\n1          [{\"httpOnly\":false,\"maxAge\":-1,\"name\":\"Authori...\n2          [{\"httpOnly\":false,\"maxAge\":-1,\"name\":\"Authori...\n3          [{\"httpOnly\":false,\"maxAge\":-1,\"name\":\"Authori...\n4          [{\"httpOnly\":false,\"maxAge\":-1,\"name\":\"Authori...\n                                 ...                        \n3069242                                                  NaN\n3069243    [{\"httpOnly\":false,\"maxAge\":-1,\"name\":\"Authori...\n3069244    [{\"httpOnly\":false,\"maxAge\":-1,\"name\":\"Authori...\n3069245    [{\"httpOnly\":false,\"maxAge\":-1,\"name\":\"Authori...\n3069246    [{\"httpOnly\":false,\"maxAge\":-1,\"name\":\"Authori...\nName: header, Length: 3069247, dtype: object\n"
     ]
    }
   ],
   "source": [
    "# read csv by pandas \n",
    "\n",
    "import pandas as pd \n",
    "df = pd.read_csv(dataPath, parse_dates=[1],sep=\",,,\")\n",
    "print(df.header)"
   ]
  },
  {
   "cell_type": "code",
   "execution_count": 14,
   "metadata": {},
   "outputs": [],
   "source": [
    "urls = dict(df['url'].value_counts())"
   ]
  },
  {
   "cell_type": "code",
   "execution_count": 17,
   "metadata": {
    "tags": []
   },
   "outputs": [],
   "source": [
    "with open(\"../data/tmp/urls.csv\", \"w\", encoding=\"utf-8\") as target:\n",
    "    target.write(\"url, times\\n\")\n",
    "    for key, value in urls.items():\n",
    "        target.write(\"{0}, {1}\\n\".format(key, value))\n"
   ]
  }
 ]
}